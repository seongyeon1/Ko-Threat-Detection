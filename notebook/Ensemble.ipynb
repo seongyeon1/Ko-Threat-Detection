{
 "cells": [
  {
   "cell_type": "code",
   "id": "initial_id",
   "metadata": {
    "collapsed": true,
    "ExecuteTime": {
     "end_time": "2024-06-26T17:15:01.229738Z",
     "start_time": "2024-06-26T17:15:01.226483Z"
    }
   },
   "source": [
    "import pandas as pd\n",
    "import numpy as np"
   ],
   "outputs": [],
   "execution_count": 3
  },
  {
   "metadata": {
    "ExecuteTime": {
     "end_time": "2024-06-26T17:15:01.491457Z",
     "start_time": "2024-06-26T17:15:01.473946Z"
    }
   },
   "cell_type": "code",
   "source": "sub = pd.read_csv('./data/new_submission.csv')",
   "id": "ea0ec2d66f4bbf7d",
   "outputs": [],
   "execution_count": 4
  },
  {
   "metadata": {
    "ExecuteTime": {
     "end_time": "2024-06-26T17:15:01.686706Z",
     "start_time": "2024-06-26T17:15:01.677933Z"
    }
   },
   "cell_type": "code",
   "source": [
    "pred1 = pd.read_csv('pred/lstm_model_pred.csv')\n",
    "pred2 = pd.read_csv('pred/transfomer_model_pred.csv')\n",
    "pred3 = pd.read_csv('pred/cnn_model_pred.csv')\n",
    "pred4 = pd.read_csv('pred/stacked_lstm_model_pred.csv')\n",
    "pred5 = pd.read_csv('pred/pred_koelectra.csv')"
   ],
   "id": "5f33ae10bb0a3252",
   "outputs": [],
   "execution_count": 5
  },
  {
   "metadata": {
    "ExecuteTime": {
     "end_time": "2024-06-26T17:15:01.867165Z",
     "start_time": "2024-06-26T17:15:01.864765Z"
    }
   },
   "cell_type": "code",
   "source": [
    "label_encode = {\n",
    "    \"협박 대화\": 0,\n",
    "    \"갈취 대화\": 1,\n",
    "    \"직장 내 괴롭힘 대화\": 2,\n",
    "    \"기타 괴롭힘 대화\": 3,\n",
    "    \"일반 대화\": 4\n",
    "}"
   ],
   "id": "72f4265b624dcf0e",
   "outputs": [],
   "execution_count": 6
  },
  {
   "metadata": {
    "ExecuteTime": {
     "end_time": "2024-06-26T17:15:02.079624Z",
     "start_time": "2024-06-26T17:15:02.072729Z"
    }
   },
   "cell_type": "code",
   "source": [
    "pred1['label'] = pred1['class'].map(label_encode)\n",
    "pred2['label'] = pred2['class'].map(label_encode)\n",
    "pred3['label'] = pred3['class'].map(label_encode)\n",
    "pred4['label'] = pred3['class'].map(label_encode)\n",
    "pred5['label'] = pred3['class'].map(label_encode)"
   ],
   "id": "635b239bc5894702",
   "outputs": [],
   "execution_count": 7
  },
  {
   "metadata": {
    "ExecuteTime": {
     "end_time": "2024-06-26T17:15:02.280868Z",
     "start_time": "2024-06-26T17:15:02.274538Z"
    }
   },
   "cell_type": "code",
   "source": "pred6 = pd.read_csv('pred/n.csv')",
   "id": "8e862f703f83f40",
   "outputs": [],
   "execution_count": 8
  },
  {
   "metadata": {
    "ExecuteTime": {
     "end_time": "2024-06-26T17:15:02.481800Z",
     "start_time": "2024-06-26T17:15:02.475946Z"
    }
   },
   "cell_type": "code",
   "source": [
    "sub['label1'] = pred1['label']\n",
    "sub['label2'] = pred2['label']\n",
    "sub['label3'] = pred3['label']\n",
    "sub['label4'] = pred4['label']\n",
    "sub['label5'] = pred5['label']"
   ],
   "id": "4e8cdc73e990916c",
   "outputs": [],
   "execution_count": 9
  },
  {
   "metadata": {
    "ExecuteTime": {
     "end_time": "2024-06-26T17:15:02.734404Z",
     "start_time": "2024-06-26T17:15:02.720298Z"
    }
   },
   "cell_type": "code",
   "source": "sub['label6'] = pred6['class'].astype('int')",
   "id": "5e0bd43409b44d5f",
   "outputs": [],
   "execution_count": 10
  },
  {
   "metadata": {
    "ExecuteTime": {
     "end_time": "2024-06-26T17:15:02.916123Z",
     "start_time": "2024-06-26T17:15:02.911792Z"
    }
   },
   "cell_type": "code",
   "source": "pred7 = pd.read_csv('pred/pred_koelectra.csv')",
   "id": "633adee0a96f4af9",
   "outputs": [],
   "execution_count": 11
  },
  {
   "metadata": {
    "ExecuteTime": {
     "end_time": "2024-06-26T17:15:03.152740Z",
     "start_time": "2024-06-26T17:15:03.147081Z"
    }
   },
   "cell_type": "code",
   "source": [
    "pred8 = pd.read_csv('pred/pred_koelectra_add_data.csv')\n",
    "pred9 = pd.read_csv('pred/pred_koelectra_add_data2.csv')"
   ],
   "id": "2123bf4409487185",
   "outputs": [],
   "execution_count": 12
  },
  {
   "metadata": {
    "ExecuteTime": {
     "end_time": "2024-06-26T17:15:03.341794Z",
     "start_time": "2024-06-26T17:15:03.338811Z"
    }
   },
   "cell_type": "code",
   "source": "pred7['일반 대화'] = 1 - pred7['max_val']",
   "id": "fbc57cedd8690661",
   "outputs": [],
   "execution_count": 13
  },
  {
   "metadata": {
    "ExecuteTime": {
     "end_time": "2024-06-26T17:15:03.606441Z",
     "start_time": "2024-06-26T17:15:03.603530Z"
    }
   },
   "cell_type": "code",
   "source": "pred8['일반 대화'] += 1 - pred8['max_val']",
   "id": "a8d00dd50e835e90",
   "outputs": [],
   "execution_count": 14
  },
  {
   "metadata": {
    "ExecuteTime": {
     "end_time": "2024-06-26T17:15:03.799915Z",
     "start_time": "2024-06-26T17:15:03.797491Z"
    }
   },
   "cell_type": "code",
   "source": "pred9['일반 대화'] += 1 - pred9['max_val']",
   "id": "d885d4611b3939fd",
   "outputs": [],
   "execution_count": 15
  },
  {
   "metadata": {
    "ExecuteTime": {
     "end_time": "2024-06-26T17:15:04.074892Z",
     "start_time": "2024-06-26T17:15:04.071459Z"
    }
   },
   "cell_type": "code",
   "source": [
    "pred5['일반 대화'] = 1 - pred5['max_val']\n",
    "pred4['일반 대화'] = 1 - pred4.iloc[:,:4].max(axis=1)"
   ],
   "id": "5dcbf399e1b5882d",
   "outputs": [],
   "execution_count": 16
  },
  {
   "metadata": {
    "ExecuteTime": {
     "end_time": "2024-06-26T17:28:40.104037Z",
     "start_time": "2024-06-26T17:28:40.092259Z"
    }
   },
   "cell_type": "code",
   "source": "pred4",
   "id": "bb0f76aff9f761d3",
   "outputs": [
    {
     "data": {
      "text/plain": [
       "        갈취 대화  기타 괴롭힘 대화  직장 내 괴롭힘 대화     협박 대화  label        class     일반 대화\n",
       "0    0.974048   0.345223     0.362772  0.237041      1        갈취 대화  0.025952\n",
       "1    0.067902   0.304401     0.968194  0.081628      2  직장 내 괴롭힘 대화  0.031806\n",
       "2    0.121651   0.958459     0.361863  0.158774      2    기타 괴롭힘 대화  0.041541\n",
       "3    0.100553   0.973983     0.260947  0.194558      3    기타 괴롭힘 대화  0.026017\n",
       "4    0.227684   0.737720     0.208887  0.844744      3        협박 대화  0.155256\n",
       "..        ...        ...          ...       ...    ...          ...       ...\n",
       "495  0.063159   0.311116     0.968740  0.080566      2  직장 내 괴롭힘 대화  0.031260\n",
       "496  0.981989   0.271551     0.283838  0.345969      2        갈취 대화  0.018011\n",
       "497  0.986924   0.291462     0.299756  0.283355      1        갈취 대화  0.013076\n",
       "498  0.094984   0.370897     0.945455  0.100949      2  직장 내 괴롭힘 대화  0.054545\n",
       "499  0.152676   0.908448     0.456719  0.177711      0    기타 괴롭힘 대화  0.091552\n",
       "\n",
       "[500 rows x 7 columns]"
      ],
      "text/html": [
       "<div>\n",
       "<style scoped>\n",
       "    .dataframe tbody tr th:only-of-type {\n",
       "        vertical-align: middle;\n",
       "    }\n",
       "\n",
       "    .dataframe tbody tr th {\n",
       "        vertical-align: top;\n",
       "    }\n",
       "\n",
       "    .dataframe thead th {\n",
       "        text-align: right;\n",
       "    }\n",
       "</style>\n",
       "<table border=\"1\" class=\"dataframe\">\n",
       "  <thead>\n",
       "    <tr style=\"text-align: right;\">\n",
       "      <th></th>\n",
       "      <th>갈취 대화</th>\n",
       "      <th>기타 괴롭힘 대화</th>\n",
       "      <th>직장 내 괴롭힘 대화</th>\n",
       "      <th>협박 대화</th>\n",
       "      <th>label</th>\n",
       "      <th>class</th>\n",
       "      <th>일반 대화</th>\n",
       "    </tr>\n",
       "  </thead>\n",
       "  <tbody>\n",
       "    <tr>\n",
       "      <th>0</th>\n",
       "      <td>0.974048</td>\n",
       "      <td>0.345223</td>\n",
       "      <td>0.362772</td>\n",
       "      <td>0.237041</td>\n",
       "      <td>1</td>\n",
       "      <td>갈취 대화</td>\n",
       "      <td>0.025952</td>\n",
       "    </tr>\n",
       "    <tr>\n",
       "      <th>1</th>\n",
       "      <td>0.067902</td>\n",
       "      <td>0.304401</td>\n",
       "      <td>0.968194</td>\n",
       "      <td>0.081628</td>\n",
       "      <td>2</td>\n",
       "      <td>직장 내 괴롭힘 대화</td>\n",
       "      <td>0.031806</td>\n",
       "    </tr>\n",
       "    <tr>\n",
       "      <th>2</th>\n",
       "      <td>0.121651</td>\n",
       "      <td>0.958459</td>\n",
       "      <td>0.361863</td>\n",
       "      <td>0.158774</td>\n",
       "      <td>2</td>\n",
       "      <td>기타 괴롭힘 대화</td>\n",
       "      <td>0.041541</td>\n",
       "    </tr>\n",
       "    <tr>\n",
       "      <th>3</th>\n",
       "      <td>0.100553</td>\n",
       "      <td>0.973983</td>\n",
       "      <td>0.260947</td>\n",
       "      <td>0.194558</td>\n",
       "      <td>3</td>\n",
       "      <td>기타 괴롭힘 대화</td>\n",
       "      <td>0.026017</td>\n",
       "    </tr>\n",
       "    <tr>\n",
       "      <th>4</th>\n",
       "      <td>0.227684</td>\n",
       "      <td>0.737720</td>\n",
       "      <td>0.208887</td>\n",
       "      <td>0.844744</td>\n",
       "      <td>3</td>\n",
       "      <td>협박 대화</td>\n",
       "      <td>0.155256</td>\n",
       "    </tr>\n",
       "    <tr>\n",
       "      <th>...</th>\n",
       "      <td>...</td>\n",
       "      <td>...</td>\n",
       "      <td>...</td>\n",
       "      <td>...</td>\n",
       "      <td>...</td>\n",
       "      <td>...</td>\n",
       "      <td>...</td>\n",
       "    </tr>\n",
       "    <tr>\n",
       "      <th>495</th>\n",
       "      <td>0.063159</td>\n",
       "      <td>0.311116</td>\n",
       "      <td>0.968740</td>\n",
       "      <td>0.080566</td>\n",
       "      <td>2</td>\n",
       "      <td>직장 내 괴롭힘 대화</td>\n",
       "      <td>0.031260</td>\n",
       "    </tr>\n",
       "    <tr>\n",
       "      <th>496</th>\n",
       "      <td>0.981989</td>\n",
       "      <td>0.271551</td>\n",
       "      <td>0.283838</td>\n",
       "      <td>0.345969</td>\n",
       "      <td>2</td>\n",
       "      <td>갈취 대화</td>\n",
       "      <td>0.018011</td>\n",
       "    </tr>\n",
       "    <tr>\n",
       "      <th>497</th>\n",
       "      <td>0.986924</td>\n",
       "      <td>0.291462</td>\n",
       "      <td>0.299756</td>\n",
       "      <td>0.283355</td>\n",
       "      <td>1</td>\n",
       "      <td>갈취 대화</td>\n",
       "      <td>0.013076</td>\n",
       "    </tr>\n",
       "    <tr>\n",
       "      <th>498</th>\n",
       "      <td>0.094984</td>\n",
       "      <td>0.370897</td>\n",
       "      <td>0.945455</td>\n",
       "      <td>0.100949</td>\n",
       "      <td>2</td>\n",
       "      <td>직장 내 괴롭힘 대화</td>\n",
       "      <td>0.054545</td>\n",
       "    </tr>\n",
       "    <tr>\n",
       "      <th>499</th>\n",
       "      <td>0.152676</td>\n",
       "      <td>0.908448</td>\n",
       "      <td>0.456719</td>\n",
       "      <td>0.177711</td>\n",
       "      <td>0</td>\n",
       "      <td>기타 괴롭힘 대화</td>\n",
       "      <td>0.091552</td>\n",
       "    </tr>\n",
       "  </tbody>\n",
       "</table>\n",
       "<p>500 rows × 7 columns</p>\n",
       "</div>"
      ]
     },
     "execution_count": 71,
     "metadata": {},
     "output_type": "execute_result"
    }
   ],
   "execution_count": 71
  },
  {
   "metadata": {
    "ExecuteTime": {
     "end_time": "2024-06-26T17:15:04.298167Z",
     "start_time": "2024-06-26T17:15:04.295261Z"
    }
   },
   "cell_type": "code",
   "source": "pred3['일반 대화'] = 1 - pred3.iloc[:,:4].max(axis=1)",
   "id": "dca27ce374f03f15",
   "outputs": [],
   "execution_count": 17
  },
  {
   "metadata": {
    "ExecuteTime": {
     "end_time": "2024-06-26T17:15:04.546984Z",
     "start_time": "2024-06-26T17:15:04.543453Z"
    }
   },
   "cell_type": "code",
   "source": "pred2['일반 대화'] = 1 - pred2.iloc[:,:4].max(axis=1)",
   "id": "ba7975065db9aaad",
   "outputs": [],
   "execution_count": 18
  },
  {
   "metadata": {
    "ExecuteTime": {
     "end_time": "2024-06-26T17:15:04.837851Z",
     "start_time": "2024-06-26T17:15:04.834967Z"
    }
   },
   "cell_type": "code",
   "source": "pred1['일반 대화'] = 1 - pred1.iloc[:,:4].max(axis=1)",
   "id": "b06146bd938f80e9",
   "outputs": [],
   "execution_count": 19
  },
  {
   "metadata": {
    "ExecuteTime": {
     "end_time": "2024-06-26T17:15:31.663379Z",
     "start_time": "2024-06-26T17:15:31.645710Z"
    }
   },
   "cell_type": "code",
   "source": "la = label_encode.keys()",
   "id": "3856bc85d09a3d47",
   "outputs": [],
   "execution_count": 21
  },
  {
   "metadata": {
    "ExecuteTime": {
     "end_time": "2024-06-26T17:15:33.362989Z",
     "start_time": "2024-06-26T17:15:33.354629Z"
    }
   },
   "cell_type": "code",
   "source": "pred = pred1[la] + pred2[la] + pred3[la] + pred4[la] + pred5[la] + pred7[la] + pred8[la] + pred9[la]",
   "id": "2ae5689993ee18fd",
   "outputs": [],
   "execution_count": 22
  },
  {
   "metadata": {
    "ExecuteTime": {
     "end_time": "2024-06-26T17:15:34.289307Z",
     "start_time": "2024-06-26T17:15:34.287392Z"
    }
   },
   "cell_type": "code",
   "source": "pred = pred  / 8",
   "id": "c83deb5050a1dd78",
   "outputs": [],
   "execution_count": 23
  },
  {
   "metadata": {
    "ExecuteTime": {
     "end_time": "2024-06-26T17:15:34.928239Z",
     "start_time": "2024-06-26T17:15:34.917779Z"
    }
   },
   "cell_type": "code",
   "source": "pred",
   "id": "8eb2071d4ad31f23",
   "outputs": [
    {
     "data": {
      "text/plain": [
       "        협박 대화     갈취 대화  직장 내 괴롭힘 대화  기타 괴롭힘 대화     일반 대화\n",
       "0    0.118434  0.943030     0.075275   0.222127  0.064480\n",
       "1    0.103321  0.035326     0.939405   0.135275  0.066401\n",
       "2    0.099263  0.056463     0.831618   0.341461  0.097222\n",
       "3    0.267776  0.098042     0.167209   0.657102  0.332697\n",
       "4    0.253694  0.257441     0.176348   0.642485  0.258642\n",
       "..        ...       ...          ...        ...       ...\n",
       "495  0.135099  0.041672     0.962422   0.132844  0.043274\n",
       "496  0.320144  0.371195     0.307770   0.225007  0.337152\n",
       "497  0.101114  0.966223     0.056513   0.141410  0.041918\n",
       "498  0.548052  0.047762     0.593660   0.106517  0.134607\n",
       "499  0.787308  0.203325     0.182408   0.185030  0.125060\n",
       "\n",
       "[500 rows x 5 columns]"
      ],
      "text/html": [
       "<div>\n",
       "<style scoped>\n",
       "    .dataframe tbody tr th:only-of-type {\n",
       "        vertical-align: middle;\n",
       "    }\n",
       "\n",
       "    .dataframe tbody tr th {\n",
       "        vertical-align: top;\n",
       "    }\n",
       "\n",
       "    .dataframe thead th {\n",
       "        text-align: right;\n",
       "    }\n",
       "</style>\n",
       "<table border=\"1\" class=\"dataframe\">\n",
       "  <thead>\n",
       "    <tr style=\"text-align: right;\">\n",
       "      <th></th>\n",
       "      <th>협박 대화</th>\n",
       "      <th>갈취 대화</th>\n",
       "      <th>직장 내 괴롭힘 대화</th>\n",
       "      <th>기타 괴롭힘 대화</th>\n",
       "      <th>일반 대화</th>\n",
       "    </tr>\n",
       "  </thead>\n",
       "  <tbody>\n",
       "    <tr>\n",
       "      <th>0</th>\n",
       "      <td>0.118434</td>\n",
       "      <td>0.943030</td>\n",
       "      <td>0.075275</td>\n",
       "      <td>0.222127</td>\n",
       "      <td>0.064480</td>\n",
       "    </tr>\n",
       "    <tr>\n",
       "      <th>1</th>\n",
       "      <td>0.103321</td>\n",
       "      <td>0.035326</td>\n",
       "      <td>0.939405</td>\n",
       "      <td>0.135275</td>\n",
       "      <td>0.066401</td>\n",
       "    </tr>\n",
       "    <tr>\n",
       "      <th>2</th>\n",
       "      <td>0.099263</td>\n",
       "      <td>0.056463</td>\n",
       "      <td>0.831618</td>\n",
       "      <td>0.341461</td>\n",
       "      <td>0.097222</td>\n",
       "    </tr>\n",
       "    <tr>\n",
       "      <th>3</th>\n",
       "      <td>0.267776</td>\n",
       "      <td>0.098042</td>\n",
       "      <td>0.167209</td>\n",
       "      <td>0.657102</td>\n",
       "      <td>0.332697</td>\n",
       "    </tr>\n",
       "    <tr>\n",
       "      <th>4</th>\n",
       "      <td>0.253694</td>\n",
       "      <td>0.257441</td>\n",
       "      <td>0.176348</td>\n",
       "      <td>0.642485</td>\n",
       "      <td>0.258642</td>\n",
       "    </tr>\n",
       "    <tr>\n",
       "      <th>...</th>\n",
       "      <td>...</td>\n",
       "      <td>...</td>\n",
       "      <td>...</td>\n",
       "      <td>...</td>\n",
       "      <td>...</td>\n",
       "    </tr>\n",
       "    <tr>\n",
       "      <th>495</th>\n",
       "      <td>0.135099</td>\n",
       "      <td>0.041672</td>\n",
       "      <td>0.962422</td>\n",
       "      <td>0.132844</td>\n",
       "      <td>0.043274</td>\n",
       "    </tr>\n",
       "    <tr>\n",
       "      <th>496</th>\n",
       "      <td>0.320144</td>\n",
       "      <td>0.371195</td>\n",
       "      <td>0.307770</td>\n",
       "      <td>0.225007</td>\n",
       "      <td>0.337152</td>\n",
       "    </tr>\n",
       "    <tr>\n",
       "      <th>497</th>\n",
       "      <td>0.101114</td>\n",
       "      <td>0.966223</td>\n",
       "      <td>0.056513</td>\n",
       "      <td>0.141410</td>\n",
       "      <td>0.041918</td>\n",
       "    </tr>\n",
       "    <tr>\n",
       "      <th>498</th>\n",
       "      <td>0.548052</td>\n",
       "      <td>0.047762</td>\n",
       "      <td>0.593660</td>\n",
       "      <td>0.106517</td>\n",
       "      <td>0.134607</td>\n",
       "    </tr>\n",
       "    <tr>\n",
       "      <th>499</th>\n",
       "      <td>0.787308</td>\n",
       "      <td>0.203325</td>\n",
       "      <td>0.182408</td>\n",
       "      <td>0.185030</td>\n",
       "      <td>0.125060</td>\n",
       "    </tr>\n",
       "  </tbody>\n",
       "</table>\n",
       "<p>500 rows × 5 columns</p>\n",
       "</div>"
      ]
     },
     "execution_count": 24,
     "metadata": {},
     "output_type": "execute_result"
    }
   ],
   "execution_count": 24
  },
  {
   "metadata": {},
   "cell_type": "code",
   "outputs": [],
   "execution_count": null,
   "source": "",
   "id": "186d7a984c0d09e3"
  },
  {
   "metadata": {
    "ExecuteTime": {
     "end_time": "2024-06-26T17:20:10.847240Z",
     "start_time": "2024-06-26T17:20:10.749931Z"
    }
   },
   "cell_type": "code",
   "source": "pred['일반 대화'].hist()",
   "id": "b2f3bddea107083d",
   "outputs": [
    {
     "data": {
      "text/plain": [
       "<AxesSubplot: >"
      ]
     },
     "execution_count": 56,
     "metadata": {},
     "output_type": "execute_result"
    },
    {
     "data": {
      "text/plain": [
       "<Figure size 640x480 with 1 Axes>"
      ],
      "image/png": "[encoded data removed]"
     },
     "metadata": {},
     "output_type": "display_data"
    }
   ],
   "execution_count": 56
  },
  {
   "metadata": {
    "ExecuteTime": {
     "end_time": "2024-06-26T17:20:45.896949Z",
     "start_time": "2024-06-26T17:20:45.506356Z"
    }
   },
   "cell_type": "code",
   "source": "pred.iloc[:,:5].hist()",
   "id": "54ed0844ef220ee9",
   "outputs": [
    {
     "data": {
      "text/plain": [
       "array([[<AxesSubplot: title={'center': '협박 대화'}>,\n",
       "        <AxesSubplot: title={'center': '갈취 대화'}>],\n",
       "       [<AxesSubplot: title={'center': '직장 내 괴롭힘 대화'}>,\n",
       "        <AxesSubplot: title={'center': '기타 괴롭힘 대화'}>],\n",
       "       [<AxesSubplot: title={'center': '일반 대화'}>, <AxesSubplot: >]],\n",
       "      dtype=object)"
      ]
     },
     "execution_count": 59,
     "metadata": {},
     "output_type": "execute_result"
    },
    {
     "name": "stderr",
     "output_type": "stream",
     "text": [
      "/opt/homebrew/Caskroom/miniforge/base/envs/DL-tf/lib/python3.8/site-packages/IPython/core/events.py:89: UserWarning: Glyph 54801 (\\N{HANGUL SYLLABLE HYEOB}) missing from current font.\n",
      "  func(*args, **kwargs)\n",
      "/opt/homebrew/Caskroom/miniforge/base/envs/DL-tf/lib/python3.8/site-packages/IPython/core/events.py:89: UserWarning: Glyph 48149 (\\N{HANGUL SYLLABLE BAG}) missing from current font.\n",
      "  func(*args, **kwargs)\n",
      "/opt/homebrew/Caskroom/miniforge/base/envs/DL-tf/lib/python3.8/site-packages/IPython/core/events.py:89: UserWarning: Glyph 45824 (\\N{HANGUL SYLLABLE DAE}) missing from current font.\n",
      "  func(*args, **kwargs)\n",
      "/opt/homebrew/Caskroom/miniforge/base/envs/DL-tf/lib/python3.8/site-packages/IPython/core/events.py:89: UserWarning: Glyph 54868 (\\N{HANGUL SYLLABLE HWA}) missing from current font.\n",
      "  func(*args, **kwargs)\n",
      "/opt/homebrew/Caskroom/miniforge/base/envs/DL-tf/lib/python3.8/site-packages/IPython/core/events.py:89: UserWarning: Glyph 44040 (\\N{HANGUL SYLLABLE GAL}) missing from current font.\n",
      "  func(*args, **kwargs)\n",
      "/opt/homebrew/Caskroom/miniforge/base/envs/DL-tf/lib/python3.8/site-packages/IPython/core/events.py:89: UserWarning: Glyph 52712 (\\N{HANGUL SYLLABLE CWI}) missing from current font.\n",
      "  func(*args, **kwargs)\n",
      "/opt/homebrew/Caskroom/miniforge/base/envs/DL-tf/lib/python3.8/site-packages/IPython/core/events.py:89: UserWarning: Glyph 51649 (\\N{HANGUL SYLLABLE JIG}) missing from current font.\n",
      "  func(*args, **kwargs)\n",
      "/opt/homebrew/Caskroom/miniforge/base/envs/DL-tf/lib/python3.8/site-packages/IPython/core/events.py:89: UserWarning: Glyph 51109 (\\N{HANGUL SYLLABLE JANG}) missing from current font.\n",
      "  func(*args, **kwargs)\n",
      "/opt/homebrew/Caskroom/miniforge/base/envs/DL-tf/lib/python3.8/site-packages/IPython/core/events.py:89: UserWarning: Glyph 45236 (\\N{HANGUL SYLLABLE NAE}) missing from current font.\n",
      "  func(*args, **kwargs)\n",
      "/opt/homebrew/Caskroom/miniforge/base/envs/DL-tf/lib/python3.8/site-packages/IPython/core/events.py:89: UserWarning: Glyph 44340 (\\N{HANGUL SYLLABLE GOE}) missing from current font.\n",
      "  func(*args, **kwargs)\n",
      "/opt/homebrew/Caskroom/miniforge/base/envs/DL-tf/lib/python3.8/site-packages/IPython/core/events.py:89: UserWarning: Glyph 47213 (\\N{HANGUL SYLLABLE ROB}) missing from current font.\n",
      "  func(*args, **kwargs)\n",
      "/opt/homebrew/Caskroom/miniforge/base/envs/DL-tf/lib/python3.8/site-packages/IPython/core/events.py:89: UserWarning: Glyph 55192 (\\N{HANGUL SYLLABLE HIM}) missing from current font.\n",
      "  func(*args, **kwargs)\n",
      "/opt/homebrew/Caskroom/miniforge/base/envs/DL-tf/lib/python3.8/site-packages/IPython/core/events.py:89: UserWarning: Glyph 44592 (\\N{HANGUL SYLLABLE GI}) missing from current font.\n",
      "  func(*args, **kwargs)\n",
      "/opt/homebrew/Caskroom/miniforge/base/envs/DL-tf/lib/python3.8/site-packages/IPython/core/events.py:89: UserWarning: Glyph 53440 (\\N{HANGUL SYLLABLE TA}) missing from current font.\n",
      "  func(*args, **kwargs)\n",
      "/opt/homebrew/Caskroom/miniforge/base/envs/DL-tf/lib/python3.8/site-packages/IPython/core/events.py:89: UserWarning: Glyph 51068 (\\N{HANGUL SYLLABLE IL}) missing from current font.\n",
      "  func(*args, **kwargs)\n",
      "/opt/homebrew/Caskroom/miniforge/base/envs/DL-tf/lib/python3.8/site-packages/IPython/core/events.py:89: UserWarning: Glyph 48152 (\\N{HANGUL SYLLABLE BAN}) missing from current font.\n",
      "  func(*args, **kwargs)\n",
      "/opt/homebrew/Caskroom/miniforge/base/envs/DL-tf/lib/python3.8/site-packages/IPython/core/pylabtools.py:152: UserWarning: Glyph 54801 (\\N{HANGUL SYLLABLE HYEOB}) missing from current font.\n",
      "  fig.canvas.print_figure(bytes_io, **kw)\n",
      "/opt/homebrew/Caskroom/miniforge/base/envs/DL-tf/lib/python3.8/site-packages/IPython/core/pylabtools.py:152: UserWarning: Glyph 48149 (\\N{HANGUL SYLLABLE BAG}) missing from current font.\n",
      "  fig.canvas.print_figure(bytes_io, **kw)\n",
      "/opt/homebrew/Caskroom/miniforge/base/envs/DL-tf/lib/python3.8/site-packages/IPython/core/pylabtools.py:152: UserWarning: Glyph 45824 (\\N{HANGUL SYLLABLE DAE}) missing from current font.\n",
      "  fig.canvas.print_figure(bytes_io, **kw)\n",
      "/opt/homebrew/Caskroom/miniforge/base/envs/DL-tf/lib/python3.8/site-packages/IPython/core/pylabtools.py:152: UserWarning: Glyph 54868 (\\N{HANGUL SYLLABLE HWA}) missing from current font.\n",
      "  fig.canvas.print_figure(bytes_io, **kw)\n",
      "/opt/homebrew/Caskroom/miniforge/base/envs/DL-tf/lib/python3.8/site-packages/IPython/core/pylabtools.py:152: UserWarning: Glyph 44040 (\\N{HANGUL SYLLABLE GAL}) missing from current font.\n",
      "  fig.canvas.print_figure(bytes_io, **kw)\n",
      "/opt/homebrew/Caskroom/miniforge/base/envs/DL-tf/lib/python3.8/site-packages/IPython/core/pylabtools.py:152: UserWarning: Glyph 52712 (\\N{HANGUL SYLLABLE CWI}) missing from current font.\n",
      "  fig.canvas.print_figure(bytes_io, **kw)\n",
      "/opt/homebrew/Caskroom/miniforge/base/envs/DL-tf/lib/python3.8/site-packages/IPython/core/pylabtools.py:152: UserWarning: Glyph 51649 (\\N{HANGUL SYLLABLE JIG}) missing from current font.\n",
      "  fig.canvas.print_figure(bytes_io, **kw)\n",
      "/opt/homebrew/Caskroom/miniforge/base/envs/DL-tf/lib/python3.8/site-packages/IPython/core/pylabtools.py:152: UserWarning: Glyph 51109 (\\N{HANGUL SYLLABLE JANG}) missing from current font.\n",
      "  fig.canvas.print_figure(bytes_io, **kw)\n",
      "/opt/homebrew/Caskroom/miniforge/base/envs/DL-tf/lib/python3.8/site-packages/IPython/core/pylabtools.py:152: UserWarning: Glyph 45236 (\\N{HANGUL SYLLABLE NAE}) missing from current font.\n",
      "  fig.canvas.print_figure(bytes_io, **kw)\n",
      "/opt/homebrew/Caskroom/miniforge/base/envs/DL-tf/lib/python3.8/site-packages/IPython/core/pylabtools.py:152: UserWarning: Glyph 44340 (\\N{HANGUL SYLLABLE GOE}) missing from current font.\n",
      "  fig.canvas.print_figure(bytes_io, **kw)\n",
      "/opt/homebrew/Caskroom/miniforge/base/envs/DL-tf/lib/python3.8/site-packages/IPython/core/pylabtools.py:152: UserWarning: Glyph 47213 (\\N{HANGUL SYLLABLE ROB}) missing from current font.\n",
      "  fig.canvas.print_figure(bytes_io, **kw)\n",
      "/opt/homebrew/Caskroom/miniforge/base/envs/DL-tf/lib/python3.8/site-packages/IPython/core/pylabtools.py:152: UserWarning: Glyph 55192 (\\N{HANGUL SYLLABLE HIM}) missing from current font.\n",
      "  fig.canvas.print_figure(bytes_io, **kw)\n",
      "/opt/homebrew/Caskroom/miniforge/base/envs/DL-tf/lib/python3.8/site-packages/IPython/core/pylabtools.py:152: UserWarning: Glyph 44592 (\\N{HANGUL SYLLABLE GI}) missing from current font.\n",
      "  fig.canvas.print_figure(bytes_io, **kw)\n",
      "/opt/homebrew/Caskroom/miniforge/base/envs/DL-tf/lib/python3.8/site-packages/IPython/core/pylabtools.py:152: UserWarning: Glyph 53440 (\\N{HANGUL SYLLABLE TA}) missing from current font.\n",
      "  fig.canvas.print_figure(bytes_io, **kw)\n",
      "/opt/homebrew/Caskroom/miniforge/base/envs/DL-tf/lib/python3.8/site-packages/IPython/core/pylabtools.py:152: UserWarning: Glyph 51068 (\\N{HANGUL SYLLABLE IL}) missing from current font.\n",
      "  fig.canvas.print_figure(bytes_io, **kw)\n",
      "/opt/homebrew/Caskroom/miniforge/base/envs/DL-tf/lib/python3.8/site-packages/IPython/core/pylabtools.py:152: UserWarning: Glyph 48152 (\\N{HANGUL SYLLABLE BAN}) missing from current font.\n",
      "  fig.canvas.print_figure(bytes_io, **kw)\n"
     ]
    },
    {
     "data": {
      "text/plain": [
       "<Figure size 640x480 with 6 Axes>"
      ],
      "image/png": "[encoded data removed]"
     },
     "metadata": {},
     "output_type": "display_data"
    }
   ],
   "execution_count": 59
  },
  {
   "metadata": {
    "ExecuteTime": {
     "end_time": "2024-06-26T17:21:47.178774Z",
     "start_time": "2024-06-26T17:21:47.157108Z"
    }
   },
   "cell_type": "code",
   "source": "pred['일반 대화'] += 0.5",
   "id": "bfbc2b1a9bb89a0d",
   "outputs": [],
   "execution_count": 60
  },
  {
   "metadata": {
    "ExecuteTime": {
     "end_time": "2024-06-26T17:21:49.952865Z",
     "start_time": "2024-06-26T17:21:49.943725Z"
    }
   },
   "cell_type": "code",
   "source": "pred.iloc[:,:5]",
   "id": "e0b1c7a63ec2f7f9",
   "outputs": [
    {
     "data": {
      "text/plain": [
       "        협박 대화     갈취 대화  직장 내 괴롭힘 대화  기타 괴롭힘 대화     일반 대화\n",
       "0    0.118434  0.943030     0.075275   0.222127  0.564480\n",
       "1    0.103321  0.035326     0.939405   0.135275  0.566401\n",
       "2    0.099263  0.056463     0.831618   0.341461  0.597222\n",
       "3    0.267776  0.098042     0.167209   0.657102  0.832697\n",
       "4    0.253694  0.257441     0.176348   0.642485  0.758642\n",
       "..        ...       ...          ...        ...       ...\n",
       "495  0.135099  0.041672     0.962422   0.132844  0.543274\n",
       "496  0.320144  0.371195     0.307770   0.225007  0.837152\n",
       "497  0.101114  0.966223     0.056513   0.141410  0.541918\n",
       "498  0.548052  0.047762     0.593660   0.106517  0.634607\n",
       "499  0.787308  0.203325     0.182408   0.185030  0.625060\n",
       "\n",
       "[500 rows x 5 columns]"
      ],
      "text/html": [
       "<div>\n",
       "<style scoped>\n",
       "    .dataframe tbody tr th:only-of-type {\n",
       "        vertical-align: middle;\n",
       "    }\n",
       "\n",
       "    .dataframe tbody tr th {\n",
       "        vertical-align: top;\n",
       "    }\n",
       "\n",
       "    .dataframe thead th {\n",
       "        text-align: right;\n",
       "    }\n",
       "</style>\n",
       "<table border=\"1\" class=\"dataframe\">\n",
       "  <thead>\n",
       "    <tr style=\"text-align: right;\">\n",
       "      <th></th>\n",
       "      <th>협박 대화</th>\n",
       "      <th>갈취 대화</th>\n",
       "      <th>직장 내 괴롭힘 대화</th>\n",
       "      <th>기타 괴롭힘 대화</th>\n",
       "      <th>일반 대화</th>\n",
       "    </tr>\n",
       "  </thead>\n",
       "  <tbody>\n",
       "    <tr>\n",
       "      <th>0</th>\n",
       "      <td>0.118434</td>\n",
       "      <td>0.943030</td>\n",
       "      <td>0.075275</td>\n",
       "      <td>0.222127</td>\n",
       "      <td>0.564480</td>\n",
       "    </tr>\n",
       "    <tr>\n",
       "      <th>1</th>\n",
       "      <td>0.103321</td>\n",
       "      <td>0.035326</td>\n",
       "      <td>0.939405</td>\n",
       "      <td>0.135275</td>\n",
       "      <td>0.566401</td>\n",
       "    </tr>\n",
       "    <tr>\n",
       "      <th>2</th>\n",
       "      <td>0.099263</td>\n",
       "      <td>0.056463</td>\n",
       "      <td>0.831618</td>\n",
       "      <td>0.341461</td>\n",
       "      <td>0.597222</td>\n",
       "    </tr>\n",
       "    <tr>\n",
       "      <th>3</th>\n",
       "      <td>0.267776</td>\n",
       "      <td>0.098042</td>\n",
       "      <td>0.167209</td>\n",
       "      <td>0.657102</td>\n",
       "      <td>0.832697</td>\n",
       "    </tr>\n",
       "    <tr>\n",
       "      <th>4</th>\n",
       "      <td>0.253694</td>\n",
       "      <td>0.257441</td>\n",
       "      <td>0.176348</td>\n",
       "      <td>0.642485</td>\n",
       "      <td>0.758642</td>\n",
       "    </tr>\n",
       "    <tr>\n",
       "      <th>...</th>\n",
       "      <td>...</td>\n",
       "      <td>...</td>\n",
       "      <td>...</td>\n",
       "      <td>...</td>\n",
       "      <td>...</td>\n",
       "    </tr>\n",
       "    <tr>\n",
       "      <th>495</th>\n",
       "      <td>0.135099</td>\n",
       "      <td>0.041672</td>\n",
       "      <td>0.962422</td>\n",
       "      <td>0.132844</td>\n",
       "      <td>0.543274</td>\n",
       "    </tr>\n",
       "    <tr>\n",
       "      <th>496</th>\n",
       "      <td>0.320144</td>\n",
       "      <td>0.371195</td>\n",
       "      <td>0.307770</td>\n",
       "      <td>0.225007</td>\n",
       "      <td>0.837152</td>\n",
       "    </tr>\n",
       "    <tr>\n",
       "      <th>497</th>\n",
       "      <td>0.101114</td>\n",
       "      <td>0.966223</td>\n",
       "      <td>0.056513</td>\n",
       "      <td>0.141410</td>\n",
       "      <td>0.541918</td>\n",
       "    </tr>\n",
       "    <tr>\n",
       "      <th>498</th>\n",
       "      <td>0.548052</td>\n",
       "      <td>0.047762</td>\n",
       "      <td>0.593660</td>\n",
       "      <td>0.106517</td>\n",
       "      <td>0.634607</td>\n",
       "    </tr>\n",
       "    <tr>\n",
       "      <th>499</th>\n",
       "      <td>0.787308</td>\n",
       "      <td>0.203325</td>\n",
       "      <td>0.182408</td>\n",
       "      <td>0.185030</td>\n",
       "      <td>0.625060</td>\n",
       "    </tr>\n",
       "  </tbody>\n",
       "</table>\n",
       "<p>500 rows × 5 columns</p>\n",
       "</div>"
      ]
     },
     "execution_count": 61,
     "metadata": {},
     "output_type": "execute_result"
    }
   ],
   "execution_count": 61
  },
  {
   "metadata": {
    "ExecuteTime": {
     "end_time": "2024-06-26T17:21:51.128263Z",
     "start_time": "2024-06-26T17:21:51.108889Z"
    }
   },
   "cell_type": "code",
   "source": "pred['new_class'] = pred.iloc[:,:5].apply(lambda x : pred.columns[np.argmax(x)], axis=1 )",
   "id": "652c5918ade469f",
   "outputs": [],
   "execution_count": 62
  },
  {
   "metadata": {
    "ExecuteTime": {
     "end_time": "2024-06-26T17:21:51.783437Z",
     "start_time": "2024-06-26T17:21:51.780159Z"
    }
   },
   "cell_type": "code",
   "source": "pred['new_label'] = pred['new_class'].map(label_encode)",
   "id": "c4f3c8bca7e99045",
   "outputs": [],
   "execution_count": 63
  },
  {
   "metadata": {
    "ExecuteTime": {
     "end_time": "2024-06-26T17:21:52.359882Z",
     "start_time": "2024-06-26T17:21:52.355469Z"
    }
   },
   "cell_type": "code",
   "source": "pred['new_label'].value_counts()",
   "id": "cfd8a0d43f45346f",
   "outputs": [
    {
     "data": {
      "text/plain": [
       "3    121\n",
       "4    108\n",
       "2    101\n",
       "1     89\n",
       "0     81\n",
       "Name: new_label, dtype: int64"
      ]
     },
     "execution_count": 64,
     "metadata": {},
     "output_type": "execute_result"
    }
   ],
   "execution_count": 64
  },
  {
   "metadata": {
    "ExecuteTime": {
     "end_time": "2024-06-26T17:22:23.005721Z",
     "start_time": "2024-06-26T17:22:22.992960Z"
    }
   },
   "cell_type": "code",
   "source": "s = sub[['file_name']]",
   "id": "82e1ebc7d181f9dd",
   "outputs": [],
   "execution_count": 67
  },
  {
   "metadata": {
    "ExecuteTime": {
     "end_time": "2024-06-26T17:22:37.297036Z",
     "start_time": "2024-06-26T17:22:37.290321Z"
    }
   },
   "cell_type": "code",
   "source": "s['class'] = pred['new_label']",
   "id": "776b3fdc41f20773",
   "outputs": [
    {
     "name": "stderr",
     "output_type": "stream",
     "text": [
      "/var/folders/1b/dx8_94fs0q740wx3lfknk6y40000gn/T/ipykernel_46141/3941493472.py:1: SettingWithCopyWarning: \n",
      "A value is trying to be set on a copy of a slice from a DataFrame.\n",
      "Try using .loc[row_indexer,col_indexer] = value instead\n",
      "\n",
      "See the caveats in the documentation: https://pandas.pydata.org/pandas-docs/stable/user_guide/indexing.html#returning-a-view-versus-a-copy\n",
      "  s['class'] = pred['new_label']\n"
     ]
    }
   ],
   "execution_count": 68
  },
  {
   "metadata": {
    "ExecuteTime": {
     "end_time": "2024-06-26T17:23:01.883187Z",
     "start_time": "2024-06-26T17:23:01.858491Z"
    }
   },
   "cell_type": "code",
   "source": "s.to_csv('s.csv', index=False)",
   "id": "c029865689161af",
   "outputs": [],
   "execution_count": 70
  },
  {
   "metadata": {
    "ExecuteTime": {
     "end_time": "2024-06-26T17:22:02.270691Z",
     "start_time": "2024-06-26T17:22:02.242119Z"
    }
   },
   "cell_type": "code",
   "source": "pred",
   "id": "26145f83b4f62d69",
   "outputs": [
    {
     "data": {
      "text/plain": [
       "        협박 대화     갈취 대화  직장 내 괴롭힘 대화  기타 괴롭힘 대화     일반 대화        class  label  \\\n",
       "0    0.118434  0.943030     0.075275   0.222127  0.564480        갈취 대화      1   \n",
       "1    0.103321  0.035326     0.939405   0.135275  0.566401  직장 내 괴롭힘 대화      2   \n",
       "2    0.099263  0.056463     0.831618   0.341461  0.597222  직장 내 괴롭힘 대화      2   \n",
       "3    0.267776  0.098042     0.167209   0.657102  0.832697    기타 괴롭힘 대화      3   \n",
       "4    0.253694  0.257441     0.176348   0.642485  0.758642    기타 괴롭힘 대화      3   \n",
       "..        ...       ...          ...        ...       ...          ...    ...   \n",
       "495  0.135099  0.041672     0.962422   0.132844  0.543274  직장 내 괴롭힘 대화      2   \n",
       "496  0.320144  0.371195     0.307770   0.225007  0.837152        갈취 대화      1   \n",
       "497  0.101114  0.966223     0.056513   0.141410  0.541918        갈취 대화      1   \n",
       "498  0.548052  0.047762     0.593660   0.106517  0.634607  직장 내 괴롭힘 대화      2   \n",
       "499  0.787308  0.203325     0.182408   0.185030  0.625060        협박 대화      0   \n",
       "\n",
       "       new_class  new_label  \n",
       "0          갈취 대화          1  \n",
       "1    직장 내 괴롭힘 대화          2  \n",
       "2    직장 내 괴롭힘 대화          2  \n",
       "3          일반 대화          4  \n",
       "4          일반 대화          4  \n",
       "..           ...        ...  \n",
       "495  직장 내 괴롭힘 대화          2  \n",
       "496        일반 대화          4  \n",
       "497        갈취 대화          1  \n",
       "498        일반 대화          4  \n",
       "499        협박 대화          0  \n",
       "\n",
       "[500 rows x 9 columns]"
      ],
      "text/html": [
       "<div>\n",
       "<style scoped>\n",
       "    .dataframe tbody tr th:only-of-type {\n",
       "        vertical-align: middle;\n",
       "    }\n",
       "\n",
       "    .dataframe tbody tr th {\n",
       "        vertical-align: top;\n",
       "    }\n",
       "\n",
       "    .dataframe thead th {\n",
       "        text-align: right;\n",
       "    }\n",
       "</style>\n",
       "<table border=\"1\" class=\"dataframe\">\n",
       "  <thead>\n",
       "    <tr style=\"text-align: right;\">\n",
       "      <th></th>\n",
       "      <th>협박 대화</th>\n",
       "      <th>갈취 대화</th>\n",
       "      <th>직장 내 괴롭힘 대화</th>\n",
       "      <th>기타 괴롭힘 대화</th>\n",
       "      <th>일반 대화</th>\n",
       "      <th>class</th>\n",
       "      <th>label</th>\n",
       "      <th>new_class</th>\n",
       "      <th>new_label</th>\n",
       "    </tr>\n",
       "  </thead>\n",
       "  <tbody>\n",
       "    <tr>\n",
       "      <th>0</th>\n",
       "      <td>0.118434</td>\n",
       "      <td>0.943030</td>\n",
       "      <td>0.075275</td>\n",
       "      <td>0.222127</td>\n",
       "      <td>0.564480</td>\n",
       "      <td>갈취 대화</td>\n",
       "      <td>1</td>\n",
       "      <td>갈취 대화</td>\n",
       "      <td>1</td>\n",
       "    </tr>\n",
       "    <tr>\n",
       "      <th>1</th>\n",
       "      <td>0.103321</td>\n",
       "      <td>0.035326</td>\n",
       "      <td>0.939405</td>\n",
       "      <td>0.135275</td>\n",
       "      <td>0.566401</td>\n",
       "      <td>직장 내 괴롭힘 대화</td>\n",
       "      <td>2</td>\n",
       "      <td>직장 내 괴롭힘 대화</td>\n",
       "      <td>2</td>\n",
       "    </tr>\n",
       "    <tr>\n",
       "      <th>2</th>\n",
       "      <td>0.099263</td>\n",
       "      <td>0.056463</td>\n",
       "      <td>0.831618</td>\n",
       "      <td>0.341461</td>\n",
       "      <td>0.597222</td>\n",
       "      <td>직장 내 괴롭힘 대화</td>\n",
       "      <td>2</td>\n",
       "      <td>직장 내 괴롭힘 대화</td>\n",
       "      <td>2</td>\n",
       "    </tr>\n",
       "    <tr>\n",
       "      <th>3</th>\n",
       "      <td>0.267776</td>\n",
       "      <td>0.098042</td>\n",
       "      <td>0.167209</td>\n",
       "      <td>0.657102</td>\n",
       "      <td>0.832697</td>\n",
       "      <td>기타 괴롭힘 대화</td>\n",
       "      <td>3</td>\n",
       "      <td>일반 대화</td>\n",
       "      <td>4</td>\n",
       "    </tr>\n",
       "    <tr>\n",
       "      <th>4</th>\n",
       "      <td>0.253694</td>\n",
       "      <td>0.257441</td>\n",
       "      <td>0.176348</td>\n",
       "      <td>0.642485</td>\n",
       "      <td>0.758642</td>\n",
       "      <td>기타 괴롭힘 대화</td>\n",
       "      <td>3</td>\n",
       "      <td>일반 대화</td>\n",
       "      <td>4</td>\n",
       "    </tr>\n",
       "    <tr>\n",
       "      <th>...</th>\n",
       "      <td>...</td>\n",
       "      <td>...</td>\n",
       "      <td>...</td>\n",
       "      <td>...</td>\n",
       "      <td>...</td>\n",
       "      <td>...</td>\n",
       "      <td>...</td>\n",
       "      <td>...</td>\n",
       "      <td>...</td>\n",
       "    </tr>\n",
       "    <tr>\n",
       "      <th>495</th>\n",
       "      <td>0.135099</td>\n",
       "      <td>0.041672</td>\n",
       "      <td>0.962422</td>\n",
       "      <td>0.132844</td>\n",
       "      <td>0.543274</td>\n",
       "      <td>직장 내 괴롭힘 대화</td>\n",
       "      <td>2</td>\n",
       "      <td>직장 내 괴롭힘 대화</td>\n",
       "      <td>2</td>\n",
       "    </tr>\n",
       "    <tr>\n",
       "      <th>496</th>\n",
       "      <td>0.320144</td>\n",
       "      <td>0.371195</td>\n",
       "      <td>0.307770</td>\n",
       "      <td>0.225007</td>\n",
       "      <td>0.837152</td>\n",
       "      <td>갈취 대화</td>\n",
       "      <td>1</td>\n",
       "      <td>일반 대화</td>\n",
       "      <td>4</td>\n",
       "    </tr>\n",
       "    <tr>\n",
       "      <th>497</th>\n",
       "      <td>0.101114</td>\n",
       "      <td>0.966223</td>\n",
       "      <td>0.056513</td>\n",
       "      <td>0.141410</td>\n",
       "      <td>0.541918</td>\n",
       "      <td>갈취 대화</td>\n",
       "      <td>1</td>\n",
       "      <td>갈취 대화</td>\n",
       "      <td>1</td>\n",
       "    </tr>\n",
       "    <tr>\n",
       "      <th>498</th>\n",
       "      <td>0.548052</td>\n",
       "      <td>0.047762</td>\n",
       "      <td>0.593660</td>\n",
       "      <td>0.106517</td>\n",
       "      <td>0.634607</td>\n",
       "      <td>직장 내 괴롭힘 대화</td>\n",
       "      <td>2</td>\n",
       "      <td>일반 대화</td>\n",
       "      <td>4</td>\n",
       "    </tr>\n",
       "    <tr>\n",
       "      <th>499</th>\n",
       "      <td>0.787308</td>\n",
       "      <td>0.203325</td>\n",
       "      <td>0.182408</td>\n",
       "      <td>0.185030</td>\n",
       "      <td>0.625060</td>\n",
       "      <td>협박 대화</td>\n",
       "      <td>0</td>\n",
       "      <td>협박 대화</td>\n",
       "      <td>0</td>\n",
       "    </tr>\n",
       "  </tbody>\n",
       "</table>\n",
       "<p>500 rows × 9 columns</p>\n",
       "</div>"
      ]
     },
     "execution_count": 65,
     "metadata": {},
     "output_type": "execute_result"
    }
   ],
   "execution_count": 65
  },
  {
   "metadata": {
    "ExecuteTime": {
     "end_time": "2024-06-26T18:05:34.220813Z",
     "start_time": "2024-06-26T18:05:34.138005Z"
    }
   },
   "cell_type": "code",
   "source": "sub.iloc[:,2:].mode(axis=1)[0]",
   "id": "2fc76529054d0011",
   "outputs": [
    {
     "data": {
      "text/plain": [
       "0      1.0\n",
       "1      2.0\n",
       "2      2.0\n",
       "3      3.0\n",
       "4      3.0\n",
       "      ... \n",
       "495    2.0\n",
       "496    2.0\n",
       "497    1.0\n",
       "498    2.0\n",
       "499    0.0\n",
       "Name: 0, Length: 500, dtype: float64"
      ]
     },
     "execution_count": 116,
     "metadata": {},
     "output_type": "execute_result"
    }
   ],
   "execution_count": 116
  },
  {
   "metadata": {
    "ExecuteTime": {
     "end_time": "2024-06-26T18:05:35.457750Z",
     "start_time": "2024-06-26T18:05:35.399570Z"
    }
   },
   "cell_type": "code",
   "source": "sub.iloc[:,2:].mode(axis=1)[1].value_counts()",
   "id": "1b85a0fc9da3b931",
   "outputs": [
    {
     "data": {
      "text/plain": [
       "3.0    15\n",
       "1.0     3\n",
       "2.0     2\n",
       "Name: 1, dtype: int64"
      ]
     },
     "execution_count": 117,
     "metadata": {},
     "output_type": "execute_result"
    }
   ],
   "execution_count": 117
  },
  {
   "metadata": {
    "ExecuteTime": {
     "end_time": "2024-06-26T18:05:36.029099Z",
     "start_time": "2024-06-26T18:05:36.025321Z"
    }
   },
   "cell_type": "code",
   "source": "pred7['new_label'] = pred7.label.map(label_encode)",
   "id": "97cad2b3ce3f56f5",
   "outputs": [],
   "execution_count": 118
  },
  {
   "metadata": {
    "ExecuteTime": {
     "end_time": "2024-06-26T18:05:36.894569Z",
     "start_time": "2024-06-26T18:05:36.891886Z"
    }
   },
   "cell_type": "code",
   "source": "pred8['new_label'] = pred8.label.map(label_encode)",
   "id": "2d63488c5a6b9e47",
   "outputs": [],
   "execution_count": 119
  },
  {
   "metadata": {
    "ExecuteTime": {
     "end_time": "2024-06-26T18:05:37.666389Z",
     "start_time": "2024-06-26T18:05:37.662705Z"
    }
   },
   "cell_type": "code",
   "source": "pred9['new_label'] = pred8.new_label.map(label_encode)",
   "id": "f4ee01ddfa5ed864",
   "outputs": [],
   "execution_count": 120
  },
  {
   "metadata": {
    "ExecuteTime": {
     "end_time": "2024-06-26T18:05:38.265907Z",
     "start_time": "2024-06-26T18:05:38.263009Z"
    }
   },
   "cell_type": "code",
   "source": [
    "sub['label7'] = pred7['new_label']\n",
    "sub['label8'] = pred8['new_label']\n",
    "sub['label9'] = pred9['new_label']"
   ],
   "id": "6ce862b9700b250a",
   "outputs": [],
   "execution_count": 121
  },
  {
   "metadata": {
    "ExecuteTime": {
     "end_time": "2024-06-26T18:05:39.345103Z",
     "start_time": "2024-06-26T18:05:39.244989Z"
    }
   },
   "cell_type": "code",
   "source": "mode_df = sub.iloc[:,2:].mode(axis=1)",
   "id": "af364c3266c32553",
   "outputs": [],
   "execution_count": 122
  },
  {
   "metadata": {
    "ExecuteTime": {
     "end_time": "2024-06-26T18:05:39.706868Z",
     "start_time": "2024-06-26T18:05:39.704580Z"
    }
   },
   "cell_type": "code",
   "source": "mode_df.fillna(-9999, inplace=True)",
   "id": "f0c62db82f1128f5",
   "outputs": [],
   "execution_count": 123
  },
  {
   "metadata": {
    "ExecuteTime": {
     "end_time": "2024-06-26T18:05:40.677168Z",
     "start_time": "2024-06-26T18:05:40.673771Z"
    }
   },
   "cell_type": "code",
   "source": "idx = mode_df[mode_df.sum(axis=1) >0].index",
   "id": "e181dc1d193b429",
   "outputs": [],
   "execution_count": 124
  },
  {
   "metadata": {
    "ExecuteTime": {
     "end_time": "2024-06-26T18:05:42.826285Z",
     "start_time": "2024-06-26T18:05:42.822896Z"
    }
   },
   "cell_type": "code",
   "source": "sub['class'] = sub['label6']*5 * 0.3 + sub['class']*5 * 0.7",
   "id": "ab48abb6ea478c9a",
   "outputs": [],
   "execution_count": 125
  },
  {
   "metadata": {
    "ExecuteTime": {
     "end_time": "2024-06-26T18:05:43.220061Z",
     "start_time": "2024-06-26T18:05:43.216419Z"
    }
   },
   "cell_type": "code",
   "source": "sub['class'] = round(sub['class'] /5,0)",
   "id": "2da9834c03c93a13",
   "outputs": [],
   "execution_count": 126
  },
  {
   "metadata": {
    "ExecuteTime": {
     "end_time": "2024-06-26T18:05:43.802596Z",
     "start_time": "2024-06-26T18:05:43.797806Z"
    }
   },
   "cell_type": "code",
   "source": "sub['class'].value_counts()",
   "id": "aff2f2299ac37ab1",
   "outputs": [
    {
     "data": {
      "text/plain": [
       "2.0    108\n",
       "1.0    107\n",
       "0.0    104\n",
       "4.0    100\n",
       "3.0     81\n",
       "Name: class, dtype: int64"
      ]
     },
     "execution_count": 127,
     "metadata": {},
     "output_type": "execute_result"
    }
   ],
   "execution_count": 127
  },
  {
   "metadata": {
    "ExecuteTime": {
     "end_time": "2024-06-26T18:05:56.368903Z",
     "start_time": "2024-06-26T18:05:56.331435Z"
    }
   },
   "cell_type": "code",
   "source": "sub",
   "id": "e8aef0872887d22a",
   "outputs": [
    {
     "data": {
      "text/plain": [
       "    file_name  class  label1  label2  label3  label4  label5  label6  label7  \\\n",
       "0       t_000    1.0       1       1       1       1       1       1       1   \n",
       "1       t_001    2.0       2       2       2       2       2       2       2   \n",
       "2       t_002    2.0       2       2       2       2       2       2       2   \n",
       "3       t_003    4.0       3       0       3       3       3       4       3   \n",
       "4       t_004    3.0       3       1       3       3       3       3       3   \n",
       "..        ...    ...     ...     ...     ...     ...     ...     ...     ...   \n",
       "495     t_495    2.0       2       2       2       2       2       2       2   \n",
       "496     t_496    2.0       0       0       2       2       2       2       2   \n",
       "497     t_497    1.0       1       1       1       1       1       1       1   \n",
       "498     t_498    2.0       2       0       2       2       2       2       0   \n",
       "499     t_499    0.0       0       0       0       0       0       0       0   \n",
       "\n",
       "     label8  label9  \n",
       "0         1     NaN  \n",
       "1         2     NaN  \n",
       "2         2     NaN  \n",
       "3         4     NaN  \n",
       "4         3     NaN  \n",
       "..      ...     ...  \n",
       "495       2     NaN  \n",
       "496       1     NaN  \n",
       "497       1     NaN  \n",
       "498       2     NaN  \n",
       "499       1     NaN  \n",
       "\n",
       "[500 rows x 11 columns]"
      ],
      "text/html": [
       "<div>\n",
       "<style scoped>\n",
       "    .dataframe tbody tr th:only-of-type {\n",
       "        vertical-align: middle;\n",
       "    }\n",
       "\n",
       "    .dataframe tbody tr th {\n",
       "        vertical-align: top;\n",
       "    }\n",
       "\n",
       "    .dataframe thead th {\n",
       "        text-align: right;\n",
       "    }\n",
       "</style>\n",
       "<table border=\"1\" class=\"dataframe\">\n",
       "  <thead>\n",
       "    <tr style=\"text-align: right;\">\n",
       "      <th></th>\n",
       "      <th>file_name</th>\n",
       "      <th>class</th>\n",
       "      <th>label1</th>\n",
       "      <th>label2</th>\n",
       "      <th>label3</th>\n",
       "      <th>label4</th>\n",
       "      <th>label5</th>\n",
       "      <th>label6</th>\n",
       "      <th>label7</th>\n",
       "      <th>label8</th>\n",
       "      <th>label9</th>\n",
       "    </tr>\n",
       "  </thead>\n",
       "  <tbody>\n",
       "    <tr>\n",
       "      <th>0</th>\n",
       "      <td>t_000</td>\n",
       "      <td>1.0</td>\n",
       "      <td>1</td>\n",
       "      <td>1</td>\n",
       "      <td>1</td>\n",
       "      <td>1</td>\n",
       "      <td>1</td>\n",
       "      <td>1</td>\n",
       "      <td>1</td>\n",
       "      <td>1</td>\n",
       "      <td>NaN</td>\n",
       "    </tr>\n",
       "    <tr>\n",
       "      <th>1</th>\n",
       "      <td>t_001</td>\n",
       "      <td>2.0</td>\n",
       "      <td>2</td>\n",
       "      <td>2</td>\n",
       "      <td>2</td>\n",
       "      <td>2</td>\n",
       "      <td>2</td>\n",
       "      <td>2</td>\n",
       "      <td>2</td>\n",
       "      <td>2</td>\n",
       "      <td>NaN</td>\n",
       "    </tr>\n",
       "    <tr>\n",
       "      <th>2</th>\n",
       "      <td>t_002</td>\n",
       "      <td>2.0</td>\n",
       "      <td>2</td>\n",
       "      <td>2</td>\n",
       "      <td>2</td>\n",
       "      <td>2</td>\n",
       "      <td>2</td>\n",
       "      <td>2</td>\n",
       "      <td>2</td>\n",
       "      <td>2</td>\n",
       "      <td>NaN</td>\n",
       "    </tr>\n",
       "    <tr>\n",
       "      <th>3</th>\n",
       "      <td>t_003</td>\n",
       "      <td>4.0</td>\n",
       "      <td>3</td>\n",
       "      <td>0</td>\n",
       "      <td>3</td>\n",
       "      <td>3</td>\n",
       "      <td>3</td>\n",
       "      <td>4</td>\n",
       "      <td>3</td>\n",
       "      <td>4</td>\n",
       "      <td>NaN</td>\n",
       "    </tr>\n",
       "    <tr>\n",
       "      <th>4</th>\n",
       "      <td>t_004</td>\n",
       "      <td>3.0</td>\n",
       "      <td>3</td>\n",
       "      <td>1</td>\n",
       "      <td>3</td>\n",
       "      <td>3</td>\n",
       "      <td>3</td>\n",
       "      <td>3</td>\n",
       "      <td>3</td>\n",
       "      <td>3</td>\n",
       "      <td>NaN</td>\n",
       "    </tr>\n",
       "    <tr>\n",
       "      <th>...</th>\n",
       "      <td>...</td>\n",
       "      <td>...</td>\n",
       "      <td>...</td>\n",
       "      <td>...</td>\n",
       "      <td>...</td>\n",
       "      <td>...</td>\n",
       "      <td>...</td>\n",
       "      <td>...</td>\n",
       "      <td>...</td>\n",
       "      <td>...</td>\n",
       "      <td>...</td>\n",
       "    </tr>\n",
       "    <tr>\n",
       "      <th>495</th>\n",
       "      <td>t_495</td>\n",
       "      <td>2.0</td>\n",
       "      <td>2</td>\n",
       "      <td>2</td>\n",
       "      <td>2</td>\n",
       "      <td>2</td>\n",
       "      <td>2</td>\n",
       "      <td>2</td>\n",
       "      <td>2</td>\n",
       "      <td>2</td>\n",
       "      <td>NaN</td>\n",
       "    </tr>\n",
       "    <tr>\n",
       "      <th>496</th>\n",
       "      <td>t_496</td>\n",
       "      <td>2.0</td>\n",
       "      <td>0</td>\n",
       "      <td>0</td>\n",
       "      <td>2</td>\n",
       "      <td>2</td>\n",
       "      <td>2</td>\n",
       "      <td>2</td>\n",
       "      <td>2</td>\n",
       "      <td>1</td>\n",
       "      <td>NaN</td>\n",
       "    </tr>\n",
       "    <tr>\n",
       "      <th>497</th>\n",
       "      <td>t_497</td>\n",
       "      <td>1.0</td>\n",
       "      <td>1</td>\n",
       "      <td>1</td>\n",
       "      <td>1</td>\n",
       "      <td>1</td>\n",
       "      <td>1</td>\n",
       "      <td>1</td>\n",
       "      <td>1</td>\n",
       "      <td>1</td>\n",
       "      <td>NaN</td>\n",
       "    </tr>\n",
       "    <tr>\n",
       "      <th>498</th>\n",
       "      <td>t_498</td>\n",
       "      <td>2.0</td>\n",
       "      <td>2</td>\n",
       "      <td>0</td>\n",
       "      <td>2</td>\n",
       "      <td>2</td>\n",
       "      <td>2</td>\n",
       "      <td>2</td>\n",
       "      <td>0</td>\n",
       "      <td>2</td>\n",
       "      <td>NaN</td>\n",
       "    </tr>\n",
       "    <tr>\n",
       "      <th>499</th>\n",
       "      <td>t_499</td>\n",
       "      <td>0.0</td>\n",
       "      <td>0</td>\n",
       "      <td>0</td>\n",
       "      <td>0</td>\n",
       "      <td>0</td>\n",
       "      <td>0</td>\n",
       "      <td>0</td>\n",
       "      <td>0</td>\n",
       "      <td>1</td>\n",
       "      <td>NaN</td>\n",
       "    </tr>\n",
       "  </tbody>\n",
       "</table>\n",
       "<p>500 rows × 11 columns</p>\n",
       "</div>"
      ]
     },
     "execution_count": 129,
     "metadata": {},
     "output_type": "execute_result"
    }
   ],
   "execution_count": 129
  },
  {
   "metadata": {
    "ExecuteTime": {
     "end_time": "2024-06-26T18:05:44.509703Z",
     "start_time": "2024-06-26T18:05:44.505421Z"
    }
   },
   "cell_type": "code",
   "source": "sub['class'].to_csv('result2.csv', index=False)",
   "id": "47c9b6c6f5de177e",
   "outputs": [],
   "execution_count": 128
  },
  {
   "metadata": {
    "ExecuteTime": {
     "end_time": "2024-06-26T18:02:46.512804Z",
     "start_time": "2024-06-26T18:02:46.503227Z"
    }
   },
   "cell_type": "code",
   "source": "n = pd.read_csv('pred/n.csv')",
   "id": "48a91d7460ee1146",
   "outputs": [],
   "execution_count": 104
  },
  {
   "metadata": {
    "ExecuteTime": {
     "end_time": "2024-06-26T18:06:19.907990Z",
     "start_time": "2024-06-26T18:06:19.895997Z"
    }
   },
   "cell_type": "code",
   "source": "(n['class'] - sub['class']).value_counts()",
   "id": "66bb6da72bb06578",
   "outputs": [
    {
     "data": {
      "text/plain": [
       "0.0    500\n",
       "Name: class, dtype: int64"
      ]
     },
     "execution_count": 130,
     "metadata": {},
     "output_type": "execute_result"
    }
   ],
   "execution_count": 130
  },
  {
   "metadata": {
    "ExecuteTime": {
     "end_time": "2024-06-26T17:56:31.684611Z",
     "start_time": "2024-06-26T17:56:31.671382Z"
    }
   },
   "cell_type": "code",
   "source": "sub.iloc[:,2:]",
   "id": "408970193de77f13",
   "outputs": [
    {
     "data": {
      "text/plain": [
       "     label1  label2  label3  label4  label5  label6  label7  label8  label9\n",
       "0         1       1       1       1       1       1       1       1     NaN\n",
       "1         2       2       2       2       2       2       2       2     NaN\n",
       "2         2       2       2       2       2       2       2       2     NaN\n",
       "3         3       0       3       3       3       4       3       4     NaN\n",
       "4         3       1       3       3       3       3       3       3     NaN\n",
       "..      ...     ...     ...     ...     ...     ...     ...     ...     ...\n",
       "495       2       2       2       2       2       2       2       2     NaN\n",
       "496       0       0       2       2       2       2       2       1     NaN\n",
       "497       1       1       1       1       1       1       1       1     NaN\n",
       "498       2       0       2       2       2       2       0       2     NaN\n",
       "499       0       0       0       0       0       0       0       1     NaN\n",
       "\n",
       "[500 rows x 9 columns]"
      ],
      "text/html": [
       "<div>\n",
       "<style scoped>\n",
       "    .dataframe tbody tr th:only-of-type {\n",
       "        vertical-align: middle;\n",
       "    }\n",
       "\n",
       "    .dataframe tbody tr th {\n",
       "        vertical-align: top;\n",
       "    }\n",
       "\n",
       "    .dataframe thead th {\n",
       "        text-align: right;\n",
       "    }\n",
       "</style>\n",
       "<table border=\"1\" class=\"dataframe\">\n",
       "  <thead>\n",
       "    <tr style=\"text-align: right;\">\n",
       "      <th></th>\n",
       "      <th>label1</th>\n",
       "      <th>label2</th>\n",
       "      <th>label3</th>\n",
       "      <th>label4</th>\n",
       "      <th>label5</th>\n",
       "      <th>label6</th>\n",
       "      <th>label7</th>\n",
       "      <th>label8</th>\n",
       "      <th>label9</th>\n",
       "    </tr>\n",
       "  </thead>\n",
       "  <tbody>\n",
       "    <tr>\n",
       "      <th>0</th>\n",
       "      <td>1</td>\n",
       "      <td>1</td>\n",
       "      <td>1</td>\n",
       "      <td>1</td>\n",
       "      <td>1</td>\n",
       "      <td>1</td>\n",
       "      <td>1</td>\n",
       "      <td>1</td>\n",
       "      <td>NaN</td>\n",
       "    </tr>\n",
       "    <tr>\n",
       "      <th>1</th>\n",
       "      <td>2</td>\n",
       "      <td>2</td>\n",
       "      <td>2</td>\n",
       "      <td>2</td>\n",
       "      <td>2</td>\n",
       "      <td>2</td>\n",
       "      <td>2</td>\n",
       "      <td>2</td>\n",
       "      <td>NaN</td>\n",
       "    </tr>\n",
       "    <tr>\n",
       "      <th>2</th>\n",
       "      <td>2</td>\n",
       "      <td>2</td>\n",
       "      <td>2</td>\n",
       "      <td>2</td>\n",
       "      <td>2</td>\n",
       "      <td>2</td>\n",
       "      <td>2</td>\n",
       "      <td>2</td>\n",
       "      <td>NaN</td>\n",
       "    </tr>\n",
       "    <tr>\n",
       "      <th>3</th>\n",
       "      <td>3</td>\n",
       "      <td>0</td>\n",
       "      <td>3</td>\n",
       "      <td>3</td>\n",
       "      <td>3</td>\n",
       "      <td>4</td>\n",
       "      <td>3</td>\n",
       "      <td>4</td>\n",
       "      <td>NaN</td>\n",
       "    </tr>\n",
       "    <tr>\n",
       "      <th>4</th>\n",
       "      <td>3</td>\n",
       "      <td>1</td>\n",
       "      <td>3</td>\n",
       "      <td>3</td>\n",
       "      <td>3</td>\n",
       "      <td>3</td>\n",
       "      <td>3</td>\n",
       "      <td>3</td>\n",
       "      <td>NaN</td>\n",
       "    </tr>\n",
       "    <tr>\n",
       "      <th>...</th>\n",
       "      <td>...</td>\n",
       "      <td>...</td>\n",
       "      <td>...</td>\n",
       "      <td>...</td>\n",
       "      <td>...</td>\n",
       "      <td>...</td>\n",
       "      <td>...</td>\n",
       "      <td>...</td>\n",
       "      <td>...</td>\n",
       "    </tr>\n",
       "    <tr>\n",
       "      <th>495</th>\n",
       "      <td>2</td>\n",
       "      <td>2</td>\n",
       "      <td>2</td>\n",
       "      <td>2</td>\n",
       "      <td>2</td>\n",
       "      <td>2</td>\n",
       "      <td>2</td>\n",
       "      <td>2</td>\n",
       "      <td>NaN</td>\n",
       "    </tr>\n",
       "    <tr>\n",
       "      <th>496</th>\n",
       "      <td>0</td>\n",
       "      <td>0</td>\n",
       "      <td>2</td>\n",
       "      <td>2</td>\n",
       "      <td>2</td>\n",
       "      <td>2</td>\n",
       "      <td>2</td>\n",
       "      <td>1</td>\n",
       "      <td>NaN</td>\n",
       "    </tr>\n",
       "    <tr>\n",
       "      <th>497</th>\n",
       "      <td>1</td>\n",
       "      <td>1</td>\n",
       "      <td>1</td>\n",
       "      <td>1</td>\n",
       "      <td>1</td>\n",
       "      <td>1</td>\n",
       "      <td>1</td>\n",
       "      <td>1</td>\n",
       "      <td>NaN</td>\n",
       "    </tr>\n",
       "    <tr>\n",
       "      <th>498</th>\n",
       "      <td>2</td>\n",
       "      <td>0</td>\n",
       "      <td>2</td>\n",
       "      <td>2</td>\n",
       "      <td>2</td>\n",
       "      <td>2</td>\n",
       "      <td>0</td>\n",
       "      <td>2</td>\n",
       "      <td>NaN</td>\n",
       "    </tr>\n",
       "    <tr>\n",
       "      <th>499</th>\n",
       "      <td>0</td>\n",
       "      <td>0</td>\n",
       "      <td>0</td>\n",
       "      <td>0</td>\n",
       "      <td>0</td>\n",
       "      <td>0</td>\n",
       "      <td>0</td>\n",
       "      <td>1</td>\n",
       "      <td>NaN</td>\n",
       "    </tr>\n",
       "  </tbody>\n",
       "</table>\n",
       "<p>500 rows × 9 columns</p>\n",
       "</div>"
      ]
     },
     "execution_count": 90,
     "metadata": {},
     "output_type": "execute_result"
    }
   ],
   "execution_count": 90
  },
  {
   "metadata": {
    "ExecuteTime": {
     "end_time": "2024-06-26T17:55:13.881453Z",
     "start_time": "2024-06-26T17:55:13.879003Z"
    }
   },
   "cell_type": "code",
   "source": "sub['class'] = mode_df[0]",
   "id": "e76742e73e1ab089",
   "outputs": [],
   "execution_count": 86
  },
  {
   "metadata": {
    "ExecuteTime": {
     "end_time": "2024-06-26T17:55:17.751597Z",
     "start_time": "2024-06-26T17:55:17.748307Z"
    }
   },
   "cell_type": "code",
   "source": "sub.loc[idx, 'class'] = sub.loc[idx, 'label6']",
   "id": "dbd7aa8bd7646b25",
   "outputs": [],
   "execution_count": 87
  },
  {
   "metadata": {
    "ExecuteTime": {
     "end_time": "2024-06-26T17:55:20.127507Z",
     "start_time": "2024-06-26T17:55:20.121966Z"
    }
   },
   "cell_type": "code",
   "source": "sub['class'].value_counts()",
   "id": "4a4b445619880718",
   "outputs": [
    {
     "data": {
      "text/plain": [
       "3.0    157\n",
       "2.0    125\n",
       "1.0    121\n",
       "0.0     88\n",
       "4.0      9\n",
       "Name: class, dtype: int64"
      ]
     },
     "execution_count": 88,
     "metadata": {},
     "output_type": "execute_result"
    }
   ],
   "execution_count": 88
  },
  {
   "metadata": {
    "ExecuteTime": {
     "end_time": "2024-06-26T16:54:16.034550Z",
     "start_time": "2024-06-26T16:54:16.023565Z"
    }
   },
   "cell_type": "code",
   "source": "# sub.loc[sub.label6 == 4,'class'] = 4",
   "id": "39813342042f75f2",
   "outputs": [],
   "execution_count": 51
  },
  {
   "metadata": {},
   "cell_type": "code",
   "outputs": [],
   "execution_count": null,
   "source": "sub.loc[idx, 'class'] = sub.loc[idx, 'label6']",
   "id": "113ecfc38c831afa"
  },
  {
   "metadata": {
    "ExecuteTime": {
     "end_time": "2024-06-26T16:54:33.457486Z",
     "start_time": "2024-06-26T16:54:33.445417Z"
    }
   },
   "cell_type": "code",
   "source": "sub['class'].value_counts()",
   "id": "65d5d405fa423270",
   "outputs": [
    {
     "data": {
      "text/plain": [
       "2.0    106\n",
       "1.0    105\n",
       "4.0    100\n",
       "3.0     98\n",
       "0.0     91\n",
       "Name: class, dtype: int64"
      ]
     },
     "execution_count": 52,
     "metadata": {},
     "output_type": "execute_result"
    }
   ],
   "execution_count": 52
  },
  {
   "metadata": {
    "ExecuteTime": {
     "end_time": "2024-06-26T16:55:07.207205Z",
     "start_time": "2024-06-26T16:55:07.197813Z"
    }
   },
   "cell_type": "code",
   "source": "sub[['file_name','class']].to_csv('ensemble.csv', index=False)",
   "id": "640be4bc8a665994",
   "outputs": [],
   "execution_count": 55
  },
  {
   "metadata": {
    "ExecuteTime": {
     "end_time": "2024-06-26T16:54:48.465694Z",
     "start_time": "2024-06-26T16:54:48.443837Z"
    }
   },
   "cell_type": "code",
   "source": "sub.to_csv('ensemble.csv', index=False)",
   "id": "9c18b68534325ff9",
   "outputs": [],
   "execution_count": 53
  },
  {
   "metadata": {
    "ExecuteTime": {
     "end_time": "2024-06-26T16:56:11.058754Z",
     "start_time": "2024-06-26T16:56:11.051651Z"
    }
   },
   "cell_type": "code",
   "source": "pred2",
   "id": "7d345249e17cc506",
   "outputs": [
    {
     "data": {
      "text/plain": [
       "            갈취 대화     기타 괴롭힘 대화   직장 내 괴롭힘 대화         협박 대화  label  \\\n",
       "0    9.993306e-01  9.525102e-06  1.897650e-09  6.598186e-04      1   \n",
       "1    6.523092e-07  1.272439e-07  7.219449e-01  2.780544e-01      2   \n",
       "2    1.985318e-07  3.504795e-04  9.138573e-01  8.579194e-02      2   \n",
       "3    1.522736e-07  8.992138e-02  4.865326e-02  8.614252e-01      0   \n",
       "4    5.490840e-01  7.959677e-04  2.747060e-07  4.501198e-01      1   \n",
       "..            ...           ...           ...           ...    ...   \n",
       "495  4.108490e-06  2.007310e-08  9.065918e-01  9.340405e-02      2   \n",
       "496  6.308750e-04  5.010112e-07  1.517656e-03  9.978510e-01      0   \n",
       "497  9.999987e-01  7.925712e-07  3.544197e-10  4.977359e-07      1   \n",
       "498  4.023900e-07  1.062878e-05  1.012251e-03  9.989767e-01      0   \n",
       "499  1.292114e-01  9.987607e-07  7.605990e-08  8.707875e-01      0   \n",
       "\n",
       "           class  \n",
       "0          갈취 대화  \n",
       "1    직장 내 괴롭힘 대화  \n",
       "2    직장 내 괴롭힘 대화  \n",
       "3          협박 대화  \n",
       "4          갈취 대화  \n",
       "..           ...  \n",
       "495  직장 내 괴롭힘 대화  \n",
       "496        협박 대화  \n",
       "497        갈취 대화  \n",
       "498        협박 대화  \n",
       "499        협박 대화  \n",
       "\n",
       "[500 rows x 6 columns]"
      ],
      "text/html": [
       "<div>\n",
       "<style scoped>\n",
       "    .dataframe tbody tr th:only-of-type {\n",
       "        vertical-align: middle;\n",
       "    }\n",
       "\n",
       "    .dataframe tbody tr th {\n",
       "        vertical-align: top;\n",
       "    }\n",
       "\n",
       "    .dataframe thead th {\n",
       "        text-align: right;\n",
       "    }\n",
       "</style>\n",
       "<table border=\"1\" class=\"dataframe\">\n",
       "  <thead>\n",
       "    <tr style=\"text-align: right;\">\n",
       "      <th></th>\n",
       "      <th>갈취 대화</th>\n",
       "      <th>기타 괴롭힘 대화</th>\n",
       "      <th>직장 내 괴롭힘 대화</th>\n",
       "      <th>협박 대화</th>\n",
       "      <th>label</th>\n",
       "      <th>class</th>\n",
       "    </tr>\n",
       "  </thead>\n",
       "  <tbody>\n",
       "    <tr>\n",
       "      <th>0</th>\n",
       "      <td>9.993306e-01</td>\n",
       "      <td>9.525102e-06</td>\n",
       "      <td>1.897650e-09</td>\n",
       "      <td>6.598186e-04</td>\n",
       "      <td>1</td>\n",
       "      <td>갈취 대화</td>\n",
       "    </tr>\n",
       "    <tr>\n",
       "      <th>1</th>\n",
       "      <td>6.523092e-07</td>\n",
       "      <td>1.272439e-07</td>\n",
       "      <td>7.219449e-01</td>\n",
       "      <td>2.780544e-01</td>\n",
       "      <td>2</td>\n",
       "      <td>직장 내 괴롭힘 대화</td>\n",
       "    </tr>\n",
       "    <tr>\n",
       "      <th>2</th>\n",
       "      <td>1.985318e-07</td>\n",
       "      <td>3.504795e-04</td>\n",
       "      <td>9.138573e-01</td>\n",
       "      <td>8.579194e-02</td>\n",
       "      <td>2</td>\n",
       "      <td>직장 내 괴롭힘 대화</td>\n",
       "    </tr>\n",
       "    <tr>\n",
       "      <th>3</th>\n",
       "      <td>1.522736e-07</td>\n",
       "      <td>8.992138e-02</td>\n",
       "      <td>4.865326e-02</td>\n",
       "      <td>8.614252e-01</td>\n",
       "      <td>0</td>\n",
       "      <td>협박 대화</td>\n",
       "    </tr>\n",
       "    <tr>\n",
       "      <th>4</th>\n",
       "      <td>5.490840e-01</td>\n",
       "      <td>7.959677e-04</td>\n",
       "      <td>2.747060e-07</td>\n",
       "      <td>4.501198e-01</td>\n",
       "      <td>1</td>\n",
       "      <td>갈취 대화</td>\n",
       "    </tr>\n",
       "    <tr>\n",
       "      <th>...</th>\n",
       "      <td>...</td>\n",
       "      <td>...</td>\n",
       "      <td>...</td>\n",
       "      <td>...</td>\n",
       "      <td>...</td>\n",
       "      <td>...</td>\n",
       "    </tr>\n",
       "    <tr>\n",
       "      <th>495</th>\n",
       "      <td>4.108490e-06</td>\n",
       "      <td>2.007310e-08</td>\n",
       "      <td>9.065918e-01</td>\n",
       "      <td>9.340405e-02</td>\n",
       "      <td>2</td>\n",
       "      <td>직장 내 괴롭힘 대화</td>\n",
       "    </tr>\n",
       "    <tr>\n",
       "      <th>496</th>\n",
       "      <td>6.308750e-04</td>\n",
       "      <td>5.010112e-07</td>\n",
       "      <td>1.517656e-03</td>\n",
       "      <td>9.978510e-01</td>\n",
       "      <td>0</td>\n",
       "      <td>협박 대화</td>\n",
       "    </tr>\n",
       "    <tr>\n",
       "      <th>497</th>\n",
       "      <td>9.999987e-01</td>\n",
       "      <td>7.925712e-07</td>\n",
       "      <td>3.544197e-10</td>\n",
       "      <td>4.977359e-07</td>\n",
       "      <td>1</td>\n",
       "      <td>갈취 대화</td>\n",
       "    </tr>\n",
       "    <tr>\n",
       "      <th>498</th>\n",
       "      <td>4.023900e-07</td>\n",
       "      <td>1.062878e-05</td>\n",
       "      <td>1.012251e-03</td>\n",
       "      <td>9.989767e-01</td>\n",
       "      <td>0</td>\n",
       "      <td>협박 대화</td>\n",
       "    </tr>\n",
       "    <tr>\n",
       "      <th>499</th>\n",
       "      <td>1.292114e-01</td>\n",
       "      <td>9.987607e-07</td>\n",
       "      <td>7.605990e-08</td>\n",
       "      <td>8.707875e-01</td>\n",
       "      <td>0</td>\n",
       "      <td>협박 대화</td>\n",
       "    </tr>\n",
       "  </tbody>\n",
       "</table>\n",
       "<p>500 rows × 6 columns</p>\n",
       "</div>"
      ]
     },
     "execution_count": 57,
     "metadata": {},
     "output_type": "execute_result"
    }
   ],
   "execution_count": 57
  },
  {
   "metadata": {
    "ExecuteTime": {
     "end_time": "2024-06-26T16:56:13.002627Z",
     "start_time": "2024-06-26T16:56:12.991521Z"
    }
   },
   "cell_type": "code",
   "source": "pred3",
   "id": "c9d15cecee926305",
   "outputs": [
    {
     "data": {
      "text/plain": [
       "        갈취 대화  기타 괴롭힘 대화   직장 내 괴롭힘 대화     협박 대화  label        class\n",
       "0    0.987069   0.549820  1.706023e-02  0.278827      1        갈취 대화\n",
       "1    0.011433   0.242695  9.991172e-01  0.310740      2  직장 내 괴롭힘 대화\n",
       "2    0.014059   0.586787  9.949319e-01  0.271363      2  직장 내 괴롭힘 대화\n",
       "3    0.091593   0.836065  3.956373e-01  0.633851      3    기타 괴롭힘 대화\n",
       "4    0.138599   0.930292  3.786520e-01  0.280347      3    기타 괴롭힘 대화\n",
       "..        ...        ...           ...       ...    ...          ...\n",
       "495  0.004856   0.069057  9.996249e-01  0.709278      2  직장 내 괴롭힘 대화\n",
       "496  0.197684   0.608652  9.062806e-01  0.285689      2  직장 내 괴롭힘 대화\n",
       "497  1.000000   0.212820  1.611025e-07  0.209194      1        갈취 대화\n",
       "498  0.001289   0.028271  9.989077e-01  0.981779      2  직장 내 괴롭힘 대화\n",
       "499  0.495426   0.050051  5.539197e-01  0.962207      0        협박 대화\n",
       "\n",
       "[500 rows x 6 columns]"
      ],
      "text/html": [
       "<div>\n",
       "<style scoped>\n",
       "    .dataframe tbody tr th:only-of-type {\n",
       "        vertical-align: middle;\n",
       "    }\n",
       "\n",
       "    .dataframe tbody tr th {\n",
       "        vertical-align: top;\n",
       "    }\n",
       "\n",
       "    .dataframe thead th {\n",
       "        text-align: right;\n",
       "    }\n",
       "</style>\n",
       "<table border=\"1\" class=\"dataframe\">\n",
       "  <thead>\n",
       "    <tr style=\"text-align: right;\">\n",
       "      <th></th>\n",
       "      <th>갈취 대화</th>\n",
       "      <th>기타 괴롭힘 대화</th>\n",
       "      <th>직장 내 괴롭힘 대화</th>\n",
       "      <th>협박 대화</th>\n",
       "      <th>label</th>\n",
       "      <th>class</th>\n",
       "    </tr>\n",
       "  </thead>\n",
       "  <tbody>\n",
       "    <tr>\n",
       "      <th>0</th>\n",
       "      <td>0.987069</td>\n",
       "      <td>0.549820</td>\n",
       "      <td>1.706023e-02</td>\n",
       "      <td>0.278827</td>\n",
       "      <td>1</td>\n",
       "      <td>갈취 대화</td>\n",
       "    </tr>\n",
       "    <tr>\n",
       "      <th>1</th>\n",
       "      <td>0.011433</td>\n",
       "      <td>0.242695</td>\n",
       "      <td>9.991172e-01</td>\n",
       "      <td>0.310740</td>\n",
       "      <td>2</td>\n",
       "      <td>직장 내 괴롭힘 대화</td>\n",
       "    </tr>\n",
       "    <tr>\n",
       "      <th>2</th>\n",
       "      <td>0.014059</td>\n",
       "      <td>0.586787</td>\n",
       "      <td>9.949319e-01</td>\n",
       "      <td>0.271363</td>\n",
       "      <td>2</td>\n",
       "      <td>직장 내 괴롭힘 대화</td>\n",
       "    </tr>\n",
       "    <tr>\n",
       "      <th>3</th>\n",
       "      <td>0.091593</td>\n",
       "      <td>0.836065</td>\n",
       "      <td>3.956373e-01</td>\n",
       "      <td>0.633851</td>\n",
       "      <td>3</td>\n",
       "      <td>기타 괴롭힘 대화</td>\n",
       "    </tr>\n",
       "    <tr>\n",
       "      <th>4</th>\n",
       "      <td>0.138599</td>\n",
       "      <td>0.930292</td>\n",
       "      <td>3.786520e-01</td>\n",
       "      <td>0.280347</td>\n",
       "      <td>3</td>\n",
       "      <td>기타 괴롭힘 대화</td>\n",
       "    </tr>\n",
       "    <tr>\n",
       "      <th>...</th>\n",
       "      <td>...</td>\n",
       "      <td>...</td>\n",
       "      <td>...</td>\n",
       "      <td>...</td>\n",
       "      <td>...</td>\n",
       "      <td>...</td>\n",
       "    </tr>\n",
       "    <tr>\n",
       "      <th>495</th>\n",
       "      <td>0.004856</td>\n",
       "      <td>0.069057</td>\n",
       "      <td>9.996249e-01</td>\n",
       "      <td>0.709278</td>\n",
       "      <td>2</td>\n",
       "      <td>직장 내 괴롭힘 대화</td>\n",
       "    </tr>\n",
       "    <tr>\n",
       "      <th>496</th>\n",
       "      <td>0.197684</td>\n",
       "      <td>0.608652</td>\n",
       "      <td>9.062806e-01</td>\n",
       "      <td>0.285689</td>\n",
       "      <td>2</td>\n",
       "      <td>직장 내 괴롭힘 대화</td>\n",
       "    </tr>\n",
       "    <tr>\n",
       "      <th>497</th>\n",
       "      <td>1.000000</td>\n",
       "      <td>0.212820</td>\n",
       "      <td>1.611025e-07</td>\n",
       "      <td>0.209194</td>\n",
       "      <td>1</td>\n",
       "      <td>갈취 대화</td>\n",
       "    </tr>\n",
       "    <tr>\n",
       "      <th>498</th>\n",
       "      <td>0.001289</td>\n",
       "      <td>0.028271</td>\n",
       "      <td>9.989077e-01</td>\n",
       "      <td>0.981779</td>\n",
       "      <td>2</td>\n",
       "      <td>직장 내 괴롭힘 대화</td>\n",
       "    </tr>\n",
       "    <tr>\n",
       "      <th>499</th>\n",
       "      <td>0.495426</td>\n",
       "      <td>0.050051</td>\n",
       "      <td>5.539197e-01</td>\n",
       "      <td>0.962207</td>\n",
       "      <td>0</td>\n",
       "      <td>협박 대화</td>\n",
       "    </tr>\n",
       "  </tbody>\n",
       "</table>\n",
       "<p>500 rows × 6 columns</p>\n",
       "</div>"
      ]
     },
     "execution_count": 58,
     "metadata": {},
     "output_type": "execute_result"
    }
   ],
   "execution_count": 58
  },
  {
   "metadata": {
    "ExecuteTime": {
     "end_time": "2024-06-26T16:56:15.002039Z",
     "start_time": "2024-06-26T16:56:14.996333Z"
    }
   },
   "cell_type": "code",
   "source": "pred4",
   "id": "4a268246c57aea73",
   "outputs": [
    {
     "data": {
      "text/plain": [
       "        갈취 대화  기타 괴롭힘 대화  직장 내 괴롭힘 대화     협박 대화  label        class\n",
       "0    0.974048   0.345223     0.362772  0.237041      1        갈취 대화\n",
       "1    0.067902   0.304401     0.968194  0.081628      2  직장 내 괴롭힘 대화\n",
       "2    0.121651   0.958459     0.361863  0.158774      2    기타 괴롭힘 대화\n",
       "3    0.100553   0.973983     0.260947  0.194558      3    기타 괴롭힘 대화\n",
       "4    0.227684   0.737720     0.208887  0.844744      3        협박 대화\n",
       "..        ...        ...          ...       ...    ...          ...\n",
       "495  0.063159   0.311116     0.968740  0.080566      2  직장 내 괴롭힘 대화\n",
       "496  0.981989   0.271551     0.283838  0.345969      2        갈취 대화\n",
       "497  0.986924   0.291462     0.299756  0.283355      1        갈취 대화\n",
       "498  0.094984   0.370897     0.945455  0.100949      2  직장 내 괴롭힘 대화\n",
       "499  0.152676   0.908448     0.456719  0.177711      0    기타 괴롭힘 대화\n",
       "\n",
       "[500 rows x 6 columns]"
      ],
      "text/html": [
       "<div>\n",
       "<style scoped>\n",
       "    .dataframe tbody tr th:only-of-type {\n",
       "        vertical-align: middle;\n",
       "    }\n",
       "\n",
       "    .dataframe tbody tr th {\n",
       "        vertical-align: top;\n",
       "    }\n",
       "\n",
       "    .dataframe thead th {\n",
       "        text-align: right;\n",
       "    }\n",
       "</style>\n",
       "<table border=\"1\" class=\"dataframe\">\n",
       "  <thead>\n",
       "    <tr style=\"text-align: right;\">\n",
       "      <th></th>\n",
       "      <th>갈취 대화</th>\n",
       "      <th>기타 괴롭힘 대화</th>\n",
       "      <th>직장 내 괴롭힘 대화</th>\n",
       "      <th>협박 대화</th>\n",
       "      <th>label</th>\n",
       "      <th>class</th>\n",
       "    </tr>\n",
       "  </thead>\n",
       "  <tbody>\n",
       "    <tr>\n",
       "      <th>0</th>\n",
       "      <td>0.974048</td>\n",
       "      <td>0.345223</td>\n",
       "      <td>0.362772</td>\n",
       "      <td>0.237041</td>\n",
       "      <td>1</td>\n",
       "      <td>갈취 대화</td>\n",
       "    </tr>\n",
       "    <tr>\n",
       "      <th>1</th>\n",
       "      <td>0.067902</td>\n",
       "      <td>0.304401</td>\n",
       "      <td>0.968194</td>\n",
       "      <td>0.081628</td>\n",
       "      <td>2</td>\n",
       "      <td>직장 내 괴롭힘 대화</td>\n",
       "    </tr>\n",
       "    <tr>\n",
       "      <th>2</th>\n",
       "      <td>0.121651</td>\n",
       "      <td>0.958459</td>\n",
       "      <td>0.361863</td>\n",
       "      <td>0.158774</td>\n",
       "      <td>2</td>\n",
       "      <td>기타 괴롭힘 대화</td>\n",
       "    </tr>\n",
       "    <tr>\n",
       "      <th>3</th>\n",
       "      <td>0.100553</td>\n",
       "      <td>0.973983</td>\n",
       "      <td>0.260947</td>\n",
       "      <td>0.194558</td>\n",
       "      <td>3</td>\n",
       "      <td>기타 괴롭힘 대화</td>\n",
       "    </tr>\n",
       "    <tr>\n",
       "      <th>4</th>\n",
       "      <td>0.227684</td>\n",
       "      <td>0.737720</td>\n",
       "      <td>0.208887</td>\n",
       "      <td>0.844744</td>\n",
       "      <td>3</td>\n",
       "      <td>협박 대화</td>\n",
       "    </tr>\n",
       "    <tr>\n",
       "      <th>...</th>\n",
       "      <td>...</td>\n",
       "      <td>...</td>\n",
       "      <td>...</td>\n",
       "      <td>...</td>\n",
       "      <td>...</td>\n",
       "      <td>...</td>\n",
       "    </tr>\n",
       "    <tr>\n",
       "      <th>495</th>\n",
       "      <td>0.063159</td>\n",
       "      <td>0.311116</td>\n",
       "      <td>0.968740</td>\n",
       "      <td>0.080566</td>\n",
       "      <td>2</td>\n",
       "      <td>직장 내 괴롭힘 대화</td>\n",
       "    </tr>\n",
       "    <tr>\n",
       "      <th>496</th>\n",
       "      <td>0.981989</td>\n",
       "      <td>0.271551</td>\n",
       "      <td>0.283838</td>\n",
       "      <td>0.345969</td>\n",
       "      <td>2</td>\n",
       "      <td>갈취 대화</td>\n",
       "    </tr>\n",
       "    <tr>\n",
       "      <th>497</th>\n",
       "      <td>0.986924</td>\n",
       "      <td>0.291462</td>\n",
       "      <td>0.299756</td>\n",
       "      <td>0.283355</td>\n",
       "      <td>1</td>\n",
       "      <td>갈취 대화</td>\n",
       "    </tr>\n",
       "    <tr>\n",
       "      <th>498</th>\n",
       "      <td>0.094984</td>\n",
       "      <td>0.370897</td>\n",
       "      <td>0.945455</td>\n",
       "      <td>0.100949</td>\n",
       "      <td>2</td>\n",
       "      <td>직장 내 괴롭힘 대화</td>\n",
       "    </tr>\n",
       "    <tr>\n",
       "      <th>499</th>\n",
       "      <td>0.152676</td>\n",
       "      <td>0.908448</td>\n",
       "      <td>0.456719</td>\n",
       "      <td>0.177711</td>\n",
       "      <td>0</td>\n",
       "      <td>기타 괴롭힘 대화</td>\n",
       "    </tr>\n",
       "  </tbody>\n",
       "</table>\n",
       "<p>500 rows × 6 columns</p>\n",
       "</div>"
      ]
     },
     "execution_count": 59,
     "metadata": {},
     "output_type": "execute_result"
    }
   ],
   "execution_count": 59
  },
  {
   "metadata": {
    "ExecuteTime": {
     "end_time": "2024-06-26T16:56:17.192293Z",
     "start_time": "2024-06-26T16:56:17.179721Z"
    }
   },
   "cell_type": "code",
   "source": "pred5",
   "id": "99a8de1c850a3ae6",
   "outputs": [
    {
     "data": {
      "text/plain": [
       "        갈취 대화  기타 괴롭힘 대화  직장 내 괴롭힘 대화     협박 대화   max_val  label\n",
       "0    0.912327   0.090432     0.019308  0.035047  0.912327      1\n",
       "1    0.030882   0.022269     0.957312  0.049211  0.957312      2\n",
       "2    0.021364   0.048918     0.916913  0.048465  0.916913      2\n",
       "3    0.037729   0.918511     0.029835  0.045829  0.918511      3\n",
       "4    0.030002   0.753776     0.038451  0.074196  0.753776      3\n",
       "..        ...        ...          ...       ...       ...    ...\n",
       "495  0.033309   0.024554     0.965784  0.038516  0.965784      2\n",
       "496  0.074568   0.067026     0.283243  0.044703  0.283243      2\n",
       "497  0.916953   0.086230     0.025130  0.029461  0.916953      1\n",
       "498  0.037958   0.024057     0.145475  0.743308  0.743308      2\n",
       "499  0.061257   0.030713     0.021423  0.938319  0.938319      0\n",
       "\n",
       "[500 rows x 6 columns]"
      ],
      "text/html": [
       "<div>\n",
       "<style scoped>\n",
       "    .dataframe tbody tr th:only-of-type {\n",
       "        vertical-align: middle;\n",
       "    }\n",
       "\n",
       "    .dataframe tbody tr th {\n",
       "        vertical-align: top;\n",
       "    }\n",
       "\n",
       "    .dataframe thead th {\n",
       "        text-align: right;\n",
       "    }\n",
       "</style>\n",
       "<table border=\"1\" class=\"dataframe\">\n",
       "  <thead>\n",
       "    <tr style=\"text-align: right;\">\n",
       "      <th></th>\n",
       "      <th>갈취 대화</th>\n",
       "      <th>기타 괴롭힘 대화</th>\n",
       "      <th>직장 내 괴롭힘 대화</th>\n",
       "      <th>협박 대화</th>\n",
       "      <th>max_val</th>\n",
       "      <th>label</th>\n",
       "    </tr>\n",
       "  </thead>\n",
       "  <tbody>\n",
       "    <tr>\n",
       "      <th>0</th>\n",
       "      <td>0.912327</td>\n",
       "      <td>0.090432</td>\n",
       "      <td>0.019308</td>\n",
       "      <td>0.035047</td>\n",
       "      <td>0.912327</td>\n",
       "      <td>1</td>\n",
       "    </tr>\n",
       "    <tr>\n",
       "      <th>1</th>\n",
       "      <td>0.030882</td>\n",
       "      <td>0.022269</td>\n",
       "      <td>0.957312</td>\n",
       "      <td>0.049211</td>\n",
       "      <td>0.957312</td>\n",
       "      <td>2</td>\n",
       "    </tr>\n",
       "    <tr>\n",
       "      <th>2</th>\n",
       "      <td>0.021364</td>\n",
       "      <td>0.048918</td>\n",
       "      <td>0.916913</td>\n",
       "      <td>0.048465</td>\n",
       "      <td>0.916913</td>\n",
       "      <td>2</td>\n",
       "    </tr>\n",
       "    <tr>\n",
       "      <th>3</th>\n",
       "      <td>0.037729</td>\n",
       "      <td>0.918511</td>\n",
       "      <td>0.029835</td>\n",
       "      <td>0.045829</td>\n",
       "      <td>0.918511</td>\n",
       "      <td>3</td>\n",
       "    </tr>\n",
       "    <tr>\n",
       "      <th>4</th>\n",
       "      <td>0.030002</td>\n",
       "      <td>0.753776</td>\n",
       "      <td>0.038451</td>\n",
       "      <td>0.074196</td>\n",
       "      <td>0.753776</td>\n",
       "      <td>3</td>\n",
       "    </tr>\n",
       "    <tr>\n",
       "      <th>...</th>\n",
       "      <td>...</td>\n",
       "      <td>...</td>\n",
       "      <td>...</td>\n",
       "      <td>...</td>\n",
       "      <td>...</td>\n",
       "      <td>...</td>\n",
       "    </tr>\n",
       "    <tr>\n",
       "      <th>495</th>\n",
       "      <td>0.033309</td>\n",
       "      <td>0.024554</td>\n",
       "      <td>0.965784</td>\n",
       "      <td>0.038516</td>\n",
       "      <td>0.965784</td>\n",
       "      <td>2</td>\n",
       "    </tr>\n",
       "    <tr>\n",
       "      <th>496</th>\n",
       "      <td>0.074568</td>\n",
       "      <td>0.067026</td>\n",
       "      <td>0.283243</td>\n",
       "      <td>0.044703</td>\n",
       "      <td>0.283243</td>\n",
       "      <td>2</td>\n",
       "    </tr>\n",
       "    <tr>\n",
       "      <th>497</th>\n",
       "      <td>0.916953</td>\n",
       "      <td>0.086230</td>\n",
       "      <td>0.025130</td>\n",
       "      <td>0.029461</td>\n",
       "      <td>0.916953</td>\n",
       "      <td>1</td>\n",
       "    </tr>\n",
       "    <tr>\n",
       "      <th>498</th>\n",
       "      <td>0.037958</td>\n",
       "      <td>0.024057</td>\n",
       "      <td>0.145475</td>\n",
       "      <td>0.743308</td>\n",
       "      <td>0.743308</td>\n",
       "      <td>2</td>\n",
       "    </tr>\n",
       "    <tr>\n",
       "      <th>499</th>\n",
       "      <td>0.061257</td>\n",
       "      <td>0.030713</td>\n",
       "      <td>0.021423</td>\n",
       "      <td>0.938319</td>\n",
       "      <td>0.938319</td>\n",
       "      <td>0</td>\n",
       "    </tr>\n",
       "  </tbody>\n",
       "</table>\n",
       "<p>500 rows × 6 columns</p>\n",
       "</div>"
      ]
     },
     "execution_count": 60,
     "metadata": {},
     "output_type": "execute_result"
    }
   ],
   "execution_count": 60
  },
  {
   "metadata": {
    "ExecuteTime": {
     "end_time": "2024-06-26T16:58:12.388955Z",
     "start_time": "2024-06-26T16:58:12.385863Z"
    }
   },
   "cell_type": "code",
   "source": "label_encode",
   "id": "3f10d9f23c964b1a",
   "outputs": [
    {
     "data": {
      "text/plain": [
       "{'협박 대화': 0, '갈취 대화': 1, '직장 내 괴롭힘 대화': 2, '기타 괴롭힘 대화': 3, '일반 대화': 4}"
      ]
     },
     "execution_count": 66,
     "metadata": {},
     "output_type": "execute_result"
    }
   ],
   "execution_count": 66
  },
  {
   "metadata": {
    "ExecuteTime": {
     "end_time": "2024-06-26T16:58:49.314323Z",
     "start_time": "2024-06-26T16:58:49.300385Z"
    }
   },
   "cell_type": "code",
   "source": "la = list(label_encode.keys())",
   "id": "5e002477e03b49f0",
   "outputs": [],
   "execution_count": 72
  }
 ],
 "metadata": {
  "kernelspec": {
   "display_name": "Python 3",
   "language": "python",
   "name": "python3"
  },
  "language_info": {
   "codemirror_mode": {
    "name": "ipython",
    "version": 2
   },
   "file_extension": ".py",
   "mimetype": "text/x-python",
   "name": "python",
   "nbconvert_exporter": "python",
   "pygments_lexer": "ipython2",
   "version": "2.7.6"
  }
 },
 "nbformat": 4,
 "nbformat_minor": 5
}
