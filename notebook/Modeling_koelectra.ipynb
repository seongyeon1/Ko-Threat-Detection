{
 "cells": [
  {
   "cell_type": "markdown",
   "id": "2b300fef",
   "metadata": {
    "id": "2b300fef"
   },
   "source": [
    "# DLTHON"
   ]
  },
  {
   "cell_type": "markdown",
   "id": "bf965457",
   "metadata": {
    "id": "bf965457"
   },
   "source": [
    "## DKTC (Dataset of Korean Threatening Conversations)\n",
    "\n",
    "- 텍스트 다중분류 프로젝트"
   ]
  },
  {
   "cell_type": "markdown",
   "id": "7059ce9e",
   "metadata": {
    "id": "7059ce9e"
   },
   "source": [
    "## 데이터셋 정보"
   ]
  },
  {
   "cell_type": "markdown",
   "id": "56ff0924",
   "metadata": {
    "id": "56ff0924"
   },
   "source": [
    "train.csv\n",
    "\n",
    "    1. idx = 인덱스\n",
    "    2. class = 0~4\n",
    "        class 0; 협박 대화\n",
    "        class 1; 갈취 대화\n",
    "        class 2; 직장 내 괴롭힘 대화\n",
    "        class 3; 기타 괴롭힘 대화\n",
    "    3. conversation = \\n으로 구분된 멀티턴 텍스트 대화"
   ]
  },
  {
   "cell_type": "markdown",
   "id": "9e842176",
   "metadata": {
    "id": "9e842176"
   },
   "source": [
    "test.json\n",
    "\n",
    "    1. t_### = 인덱스\n",
    "    2. text = 대화"
   ]
  },
  {
   "cell_type": "markdown",
   "id": "ac322063",
   "metadata": {
    "id": "ac322063"
   },
   "source": [
    "submission.csv\n",
    "\n",
    "    1. file_name = 인덱스\n",
    "    2. class = 예측값"
   ]
  },
  {
   "cell_type": "markdown",
   "id": "d2d810b4",
   "metadata": {
    "id": "d2d810b4"
   },
   "source": [
    "## 평가기준\n",
    "> - 데이터 EDA와 데이터 전처리가 적절하게 이뤄졌는가?\n",
    "> - Task에 알맞게 적절한 모델을 찾아보고 선정했는가?\n",
    "> - 성능향상을 위해 논리적으로 접근했는가?\n",
    "> - 결과 도출을 위해 여러가지 시도를 진행했는가?\n",
    "> - 도출된 결론에 충분한 설득력이 있는가?\n",
    "> - 적절한 metric을 설정하고 그 사용 근거 및 결과를 분석하였는가?\n",
    "> - 발표가 매끄럽게 진행되었고 발표시간을 준수하였는지? (발표 10분-15분)"
   ]
  },
  {
   "cell_type": "markdown",
   "id": "8c0d8b04",
   "metadata": {
    "id": "8c0d8b04"
   },
   "source": [
    "## TO-DO-LIST\n",
    "- 일반 대화 데이터셋 만들어야함 (800-1000개정도)\n",
    "- ppt 제작\n",
    "- 평가지표 : f1-score"
   ]
  },
  {
   "cell_type": "markdown",
   "id": "8555a580",
   "metadata": {
    "id": "8555a580"
   },
   "source": [
    "## EDA\n"
   ]
  },
  {
   "cell_type": "code",
   "id": "e85d085e",
   "metadata": {
    "id": "e85d085e",
    "ExecuteTime": {
     "end_time": "2024-06-26T03:14:56.000002Z",
     "start_time": "2024-06-26T03:14:55.995193Z"
    }
   },
   "source": [
    "import matplotlib.pyplot as plt\n",
    "import seaborn as sns"
   ],
   "execution_count": 156,
   "outputs": []
  },
  {
   "cell_type": "code",
   "id": "c8304434",
   "metadata": {
    "scrolled": false,
    "colab": {
     "base_uri": "https://localhost:8080/",
     "height": 206
    },
    "id": "c8304434",
    "outputId": "77e0abcc-38de-44ec-80fa-3b3dc15de69b",
    "ExecuteTime": {
     "end_time": "2024-06-26T03:14:56.373128Z",
     "start_time": "2024-06-26T03:14:56.306735Z"
    }
   },
   "source": [
    "import os\n",
    "import pandas as pd\n",
    "\n",
    "train_data_path =\"./data/train.csv\"\n",
    "train_data = pd.read_csv(train_data_path)\n",
    "train_data.head()"
   ],
   "execution_count": 157,
   "outputs": []
  },
  {
   "cell_type": "code",
   "id": "8a7c1586",
   "metadata": {
    "colab": {
     "base_uri": "https://localhost:8080/"
    },
    "id": "8a7c1586",
    "outputId": "aad069b3-f94d-479b-85c2-3c41b44f6eee",
    "ExecuteTime": {
     "end_time": "2024-06-26T03:14:56.742402Z",
     "start_time": "2024-06-26T03:14:56.739859Z"
    }
   },
   "source": [
    "train_data.shape"
   ],
   "execution_count": 158,
   "outputs": []
  },
  {
   "metadata": {
    "ExecuteTime": {
     "end_time": "2024-06-26T03:14:58.608321Z",
     "start_time": "2024-06-26T03:14:58.143227Z"
    }
   },
   "cell_type": "code",
   "source": [
    "add_data = pd.read_csv('pred/normal_df.csv')\n",
    "add_data.head()"
   ],
   "id": "1a211482157ad61e",
   "execution_count": 159,
   "outputs": []
  },
  {
   "metadata": {
    "ExecuteTime": {
     "end_time": "2024-06-26T03:14:58.900903Z",
     "start_time": "2024-06-26T03:14:58.897014Z"
    }
   },
   "cell_type": "code",
   "source": "add_data.shape",
   "id": "72db4ea4974556b4",
   "execution_count": 160,
   "outputs": []
  },
  {
   "metadata": {
    "ExecuteTime": {
     "end_time": "2024-06-26T03:15:00.896917Z",
     "start_time": "2024-06-26T03:15:00.887850Z"
    }
   },
   "cell_type": "code",
   "source": "train_data.drop('idx', axis=1, inplace=True)",
   "id": "5e71739726005486",
   "execution_count": 161,
   "outputs": []
  },
  {
   "metadata": {
    "ExecuteTime": {
     "end_time": "2024-06-26T03:15:01.549806Z",
     "start_time": "2024-06-26T03:15:01.541657Z"
    }
   },
   "cell_type": "code",
   "source": "train_data.head()",
   "id": "6e494853257eaafe",
   "execution_count": 162,
   "outputs": []
  },
  {
   "metadata": {
    "ExecuteTime": {
     "end_time": "2024-06-26T03:15:28.330086Z",
     "start_time": "2024-06-26T03:15:28.326263Z"
    }
   },
   "cell_type": "code",
   "source": "add = add_data",
   "id": "57e32b31997f34d",
   "execution_count": 164,
   "outputs": []
  },
  {
   "metadata": {
    "ExecuteTime": {
     "end_time": "2024-06-26T03:15:30.082355Z",
     "start_time": "2024-06-26T03:15:30.067538Z"
    }
   },
   "cell_type": "code",
   "source": "train_data = pd.concat([train_data, add])",
   "id": "f008193570cddae0",
   "execution_count": 165,
   "outputs": []
  },
  {
   "metadata": {
    "ExecuteTime": {
     "end_time": "2024-06-26T03:15:30.971179Z",
     "start_time": "2024-06-26T03:15:30.965382Z"
    }
   },
   "cell_type": "code",
   "source": "train_data['class'].value_counts()",
   "id": "3b51847e6217f81f",
   "execution_count": 166,
   "outputs": []
  },
  {
   "metadata": {
    "ExecuteTime": {
     "end_time": "2024-06-26T03:15:32.982041Z",
     "start_time": "2024-06-26T03:15:32.965833Z"
    }
   },
   "cell_type": "code",
   "source": [
    "import json\n",
    "with open('./data/test.json') as f:\n",
    "    test_data = json.load(f)\n",
    "\n",
    "test_data = pd.DataFrame(test_data).T\n",
    "test_data.reset_index(drop=True, inplace=True)"
   ],
   "id": "375ee96ab8db6b76",
   "execution_count": 167,
   "outputs": []
  },
  {
   "metadata": {
    "ExecuteTime": {
     "end_time": "2024-06-26T03:15:34.340836Z",
     "start_time": "2024-06-26T03:15:34.306076Z"
    }
   },
   "cell_type": "code",
   "source": "test_data['cleaned'] = test_data.text.apply(lambda x: clean(x))",
   "id": "6dc5517b1db4dc01",
   "execution_count": 168,
   "outputs": []
  },
  {
   "metadata": {
    "ExecuteTime": {
     "end_time": "2024-06-26T03:15:36.807126Z",
     "start_time": "2024-06-26T03:15:36.801035Z"
    }
   },
   "cell_type": "code",
   "source": "test_data",
   "id": "6ce92494d30cc467",
   "execution_count": 169,
   "outputs": []
  },
  {
   "metadata": {
    "ExecuteTime": {
     "end_time": "2024-06-26T03:15:40.745443Z",
     "start_time": "2024-06-26T03:15:40.739906Z"
    }
   },
   "cell_type": "code",
   "source": [
    "b = pd.read_csv('pred/n.csv')\n",
    "b.shape"
   ],
   "id": "97edc556fe4ed7b5",
   "execution_count": 170,
   "outputs": []
  },
  {
   "metadata": {
    "ExecuteTime": {
     "end_time": "2024-06-26T03:15:41.483708Z",
     "start_time": "2024-06-26T03:15:41.478978Z"
    }
   },
   "cell_type": "code",
   "source": "test_data['class'] = b['class']",
   "id": "b7fbd4add7533744",
   "execution_count": 171,
   "outputs": []
  },
  {
   "metadata": {
    "ExecuteTime": {
     "end_time": "2024-06-26T03:15:42.342788Z",
     "start_time": "2024-06-26T03:15:42.330764Z"
    }
   },
   "cell_type": "code",
   "source": "test_data['class'].value_counts()",
   "id": "da383ed0bd1e1d9d",
   "execution_count": 172,
   "outputs": []
  },
  {
   "metadata": {
    "ExecuteTime": {
     "end_time": "2024-06-26T03:15:44.652315Z",
     "start_time": "2024-06-26T03:15:44.636851Z"
    }
   },
   "cell_type": "code",
   "source": "test_data",
   "id": "c3f2511d114865",
   "execution_count": 173,
   "outputs": []
  },
  {
   "cell_type": "markdown",
   "id": "72a7bdc5",
   "metadata": {
    "id": "72a7bdc5"
   },
   "source": "## 데이터 전처리"
  },
  {
   "cell_type": "code",
   "id": "7f7b7e11",
   "metadata": {
    "colab": {
     "base_uri": "https://localhost:8080/"
    },
    "id": "7f7b7e11",
    "outputId": "033c9c87-86e2-4758-b24e-5edef306a20e",
    "ExecuteTime": {
     "end_time": "2024-06-26T03:15:47.003169Z",
     "start_time": "2024-06-26T03:15:47.000808Z"
    }
   },
   "source": "# !pip install soynlp",
   "execution_count": 174,
   "outputs": []
  },
  {
   "cell_type": "code",
   "id": "e6d6d67f",
   "metadata": {
    "id": "e6d6d67f",
    "ExecuteTime": {
     "end_time": "2024-06-26T03:15:47.699040Z",
     "start_time": "2024-06-26T03:15:47.695023Z"
    }
   },
   "source": [
    "import re\n",
    "# import emoji\n",
    "from soynlp.normalizer import repeat_normalize"
   ],
   "execution_count": 175,
   "outputs": []
  },
  {
   "cell_type": "code",
   "id": "33482434",
   "metadata": {
    "id": "33482434",
    "ExecuteTime": {
     "end_time": "2024-06-26T03:15:48.386965Z",
     "start_time": "2024-06-26T03:15:48.380910Z"
    }
   },
   "source": [
    "def clean(x):\n",
    "    # emojis = ''.join(emoji.UNICODE_EMOJI.keys())\n",
    "    pattern = re.compile(f'[^ .,?!/@$%~％·∼()\\x00-\\x7Fㄱ-힣]+')\n",
    "    url_pattern = re.compile(\n",
    "        r'https?:\\/\\/(www\\.)?[-a-zA-Z0-9@:%._\\+~#=]{1,256}\\.[a-zA-Z0-9()]{1,6}\\b([-a-zA-Z0-9()@:%_\\+.~#?&//=]*)')\n",
    "    x = pattern.sub(' ', x)\n",
    "    x = url_pattern.sub('', x)\n",
    "    x = x.strip()\n",
    "    x = repeat_normalize(x, num_repeats=2)\n",
    "    \n",
    "    x = re.sub(r\"([?.!,])\", r\" \\1 \", x)\n",
    "    x = re.sub(r'[\" \"]+', \" \", x)\n",
    "\n",
    "    # (가-힣, a-z, A-Z, \".\", \"?\", \"!\", \",\")를 제외한 모든 문자를 공백인 ' '로 대체합니다.\n",
    "    x = re.sub(r'[^가-힣a-zA-Z.?!,]', ' ', x)\n",
    "    x = x.strip()\n",
    "    x = ' '.join([i for i in x.split() if i != None])\n",
    "    return x"
   ],
   "execution_count": 176,
   "outputs": []
  },
  {
   "cell_type": "code",
   "id": "fc0fd269",
   "metadata": {
    "id": "fc0fd269",
    "ExecuteTime": {
     "end_time": "2024-06-26T03:15:54.781435Z",
     "start_time": "2024-06-26T03:15:49.343314Z"
    }
   },
   "source": [
    "train_data['cleaned'] = train_data.conversation.apply(lambda x: clean(x))"
   ],
   "execution_count": 177,
   "outputs": []
  },
  {
   "cell_type": "code",
   "id": "5bcfa21f",
   "metadata": {
    "colab": {
     "base_uri": "https://localhost:8080/"
    },
    "id": "5bcfa21f",
    "outputId": "04706655-e4b1-49a0-acd6-be368950dd73",
    "ExecuteTime": {
     "end_time": "2024-06-26T03:15:54.789457Z",
     "start_time": "2024-06-26T03:15:54.783941Z"
    }
   },
   "source": "train_data['cleaned'].tail()",
   "execution_count": 178,
   "outputs": []
  },
  {
   "cell_type": "markdown",
   "id": "58693e4c",
   "metadata": {
    "id": "58693e4c"
   },
   "source": [
    "### 한국어 문장 분리기"
   ]
  },
  {
   "cell_type": "code",
   "id": "ca398dc6",
   "metadata": {
    "scrolled": true,
    "id": "ca398dc6",
    "ExecuteTime": {
     "end_time": "2024-06-26T03:15:54.792191Z",
     "start_time": "2024-06-26T03:15:54.790400Z"
    }
   },
   "source": "# !pip install kss",
   "execution_count": 179,
   "outputs": []
  },
  {
   "cell_type": "code",
   "id": "f39d5a63",
   "metadata": {
    "id": "f39d5a63",
    "ExecuteTime": {
     "end_time": "2024-06-26T03:15:54.798645Z",
     "start_time": "2024-06-26T03:15:54.793716Z"
    }
   },
   "source": [
    "samples = train_data.sample(5)"
   ],
   "execution_count": 180,
   "outputs": []
  },
  {
   "cell_type": "code",
   "id": "b65abc00",
   "metadata": {
    "colab": {
     "base_uri": "https://localhost:8080/",
     "height": 206
    },
    "id": "b65abc00",
    "outputId": "f05143f9-32d7-42bf-d9c7-2e65010e033c",
    "ExecuteTime": {
     "end_time": "2024-06-26T03:15:54.837548Z",
     "start_time": "2024-06-26T03:15:54.830801Z"
    }
   },
   "source": [
    "samples"
   ],
   "execution_count": 181,
   "outputs": []
  },
  {
   "cell_type": "code",
   "id": "399f0f88",
   "metadata": {
    "scrolled": false,
    "colab": {
     "base_uri": "https://localhost:8080/",
     "height": 53
    },
    "id": "399f0f88",
    "outputId": "6c879853-9d7e-49fb-af07-c65f99afa6ea",
    "ExecuteTime": {
     "end_time": "2024-06-26T03:15:55.610796Z",
     "start_time": "2024-06-26T03:15:55.608147Z"
    }
   },
   "source": [
    "samples.cleaned.iloc[0]"
   ],
   "execution_count": 182,
   "outputs": []
  },
  {
   "cell_type": "code",
   "id": "c6611b67",
   "metadata": {
    "id": "c6611b67",
    "ExecuteTime": {
     "end_time": "2024-06-26T03:15:56.794902Z",
     "start_time": "2024-06-26T03:15:56.791812Z"
    }
   },
   "source": [
    "# from kss import split_sentences\n",
    "\n",
    "# split_sentences(samples.cleaned.iloc[0])"
   ],
   "execution_count": 183,
   "outputs": []
  },
  {
   "cell_type": "code",
   "id": "e17962d6",
   "metadata": {
    "id": "e17962d6",
    "ExecuteTime": {
     "end_time": "2024-06-26T03:15:57.363219Z",
     "start_time": "2024-06-26T03:15:57.358842Z"
    }
   },
   "source": [
    "# split_sentences(samples.cleaned.iloc[2])"
   ],
   "execution_count": 184,
   "outputs": []
  },
  {
   "cell_type": "code",
   "id": "a752041a",
   "metadata": {
    "id": "a752041a",
    "ExecuteTime": {
     "end_time": "2024-06-26T03:15:57.721898Z",
     "start_time": "2024-06-26T03:15:57.719456Z"
    }
   },
   "source": [
    "# split_sentences(samples.cleaned.iloc[-1])"
   ],
   "execution_count": 185,
   "outputs": []
  },
  {
   "cell_type": "markdown",
   "id": "c1de6ee3",
   "metadata": {
    "id": "c1de6ee3"
   },
   "source": [
    "## BERT"
   ]
  },
  {
   "metadata": {
    "colab": {
     "base_uri": "https://localhost:8080/"
    },
    "id": "cb382f2d39f7fc0a",
    "outputId": "8093ae62-f2fc-4a85-b76d-886451452a1f",
    "ExecuteTime": {
     "end_time": "2024-06-26T03:15:58.260816Z",
     "start_time": "2024-06-26T03:15:58.253106Z"
    }
   },
   "cell_type": "code",
   "source": "# !pip install -U transformers",
   "id": "cb382f2d39f7fc0a",
   "execution_count": 186,
   "outputs": []
  },
  {
   "cell_type": "code",
   "id": "a282e858",
   "metadata": {
    "id": "a282e858",
    "ExecuteTime": {
     "end_time": "2024-06-26T03:15:59.098098Z",
     "start_time": "2024-06-26T03:15:59.093740Z"
    }
   },
   "source": [
    "# from sklearn.preprocessing import LabelEncoder\n",
    "# \n",
    "# # LabelEncoder를 객체로 생성\n",
    "# encoder = LabelEncoder()\n",
    "# \n",
    "# # fit, transform 메소드를 통한 레이블 인코딩\n",
    "# encoder.fit(train_data['class'])\n",
    "# \n",
    "# train_data[\"label\"] = encoder.transform(train_data['class'])"
   ],
   "execution_count": 188,
   "outputs": []
  },
  {
   "metadata": {
    "ExecuteTime": {
     "end_time": "2024-06-26T03:15:59.455434Z",
     "start_time": "2024-06-26T03:15:59.452930Z"
    }
   },
   "cell_type": "code",
   "source": [
    "label_encode = {\n",
    "    \"협박 대화\": 0,\n",
    "    \"갈취 대화\": 1,\n",
    "    \"직장 내 괴롭힘 대화\": 2,\n",
    "    \"기타 괴롭힘 대화\": 3,\n",
    "    \"일반 대화\": 4\n",
    "}"
   ],
   "id": "7d5096c0b50cdc9e",
   "execution_count": 189,
   "outputs": []
  },
  {
   "metadata": {
    "ExecuteTime": {
     "end_time": "2024-06-26T03:15:59.883455Z",
     "start_time": "2024-06-26T03:15:59.878798Z"
    }
   },
   "cell_type": "code",
   "source": "train_data[\"label\"] = train_data['class'].map(label_encode)",
   "id": "152553cb573a8644",
   "execution_count": 190,
   "outputs": []
  },
  {
   "cell_type": "code",
   "id": "01b5f214",
   "metadata": {
    "id": "01b5f214",
    "ExecuteTime": {
     "end_time": "2024-06-26T03:16:00.143991Z",
     "start_time": "2024-06-26T03:16:00.117208Z"
    }
   },
   "source": [
    "dataset = train_data[['cleaned', 'label']]"
   ],
   "execution_count": 191,
   "outputs": []
  },
  {
   "cell_type": "code",
   "id": "dbc68d99",
   "metadata": {
    "colab": {
     "base_uri": "https://localhost:8080/",
     "height": 363
    },
    "id": "dbc68d99",
    "outputId": "24606769-391c-4612-f265-2c6f3b6bc4fb",
    "ExecuteTime": {
     "end_time": "2024-06-26T03:16:00.692356Z",
     "start_time": "2024-06-26T03:16:00.687187Z"
    }
   },
   "source": [
    "dataset.sample(n=10)"
   ],
   "execution_count": 192,
   "outputs": []
  },
  {
   "cell_type": "code",
   "id": "fe53bd56",
   "metadata": {
    "colab": {
     "base_uri": "https://localhost:8080/"
    },
    "id": "fe53bd56",
    "outputId": "2602e29b-41fc-443b-afca-b2888111c949",
    "ExecuteTime": {
     "end_time": "2024-06-26T03:16:01.300588Z",
     "start_time": "2024-06-26T03:16:01.279388Z"
    }
   },
   "source": [
    "max_seq_len = 0\n",
    "len_64_128 = 0\n",
    "len_128_256 = 0\n",
    "\n",
    "mylist = [0 for i in range(10000)]\n",
    "for index, value in dataset['cleaned'].items():\n",
    "    mylist[len(value)] += 1\n",
    "    max_seq_len = max(max_seq_len, len(value))\n",
    "\n",
    "    if len(value) >= 64 and len(value) < 128:\n",
    "        len_64_128 += 1\n",
    "    elif len(value) >= 128 and len(value) < 256:\n",
    "        len_128_256 += 1\n",
    "\n",
    "print(f'가장 긴 문장 길이: {max_seq_len}')\n",
    "print(f'64과 128 사이 길이 문장 개수: {len_64_128}')\n",
    "print(f'128과 256 사이 길이 문장 개수: {len_128_256}')"
   ],
   "execution_count": 193,
   "outputs": []
  },
  {
   "cell_type": "code",
   "id": "14244e61",
   "metadata": {
    "id": "14244e61",
    "ExecuteTime": {
     "end_time": "2024-06-26T03:16:01.918549Z",
     "start_time": "2024-06-26T03:16:01.914842Z"
    }
   },
   "source": [
    "max_seq_len = 800"
   ],
   "execution_count": 194,
   "outputs": []
  },
  {
   "cell_type": "code",
   "source": "dataset",
   "metadata": {
    "colab": {
     "base_uri": "https://localhost:8080/",
     "height": 424
    },
    "id": "SZQysxATXuTx",
    "outputId": "30b1e92b-fd87-4eb0-bb9d-ea2625252955",
    "ExecuteTime": {
     "end_time": "2024-06-26T03:16:02.735875Z",
     "start_time": "2024-06-26T03:16:02.716631Z"
    }
   },
   "id": "SZQysxATXuTx",
   "execution_count": 195,
   "outputs": []
  },
  {
   "metadata": {
    "id": "86651c9f66d9194b",
    "ExecuteTime": {
     "end_time": "2024-06-26T03:16:20.006872Z",
     "start_time": "2024-06-26T03:16:03.637786Z"
    }
   },
   "cell_type": "code",
   "source": [
    "import pandas as pd\n",
    "import numpy as np\n",
    "import torch\n",
    "from torch.utils.data import Dataset, DataLoader\n",
    "from transformers import ElectraTokenizer, ElectraModel, ElectraConfig, AdamW\n",
    "import torch.nn as nn\n",
    "import wandb\n",
    "from sklearn.metrics import f1_score\n",
    "\n",
    "# W&B 초기화\n",
    "wandb.init(project=\"koelectra-multi-label-classification4\", entity=\"seongyeonkim\")\n",
    "\n",
    "# 데이터 로드\n",
    "train_df = train_data[['cleaned', 'label']]\n",
    "test_data['label'] = test_data['class'].astype('int')\n",
    "val_df = test_data[['cleaned', 'label']]\n",
    "\n",
    "# KoElectra tokenizer 로드\n",
    "tokenizer = ElectraTokenizer.from_pretrained(\"monologg/koelectra-base-v3-discriminator\")\n",
    "\n",
    "# 토큰화 및 레이블 변환 함수 정의\n",
    "label_map = {\n",
    "    0: [1, 0, 0, 0, 0],\n",
    "    1: [0, 1, 0, 0, 0],\n",
    "    2: [0, 0, 1, 0, 0],\n",
    "    3: [0, 0, 0, 1, 0],\n",
    "    4: [0, 0, 0, 0, 1],\n",
    "    5: [0, 0, 0, 0, 0]\n",
    "}"
   ],
   "id": "86651c9f66d9194b",
   "execution_count": 196,
   "outputs": []
  },
  {
   "metadata": {
    "ExecuteTime": {
     "end_time": "2024-06-26T03:16:20.015810Z",
     "start_time": "2024-06-26T03:16:20.009754Z"
    }
   },
   "cell_type": "code",
   "source": [
    "# ViolenceDataset 정의\n",
    "class ViolenceDataset(Dataset):\n",
    "    def __init__(self, dataframe, tokenizer, max_length):\n",
    "        self.dataframe = dataframe\n",
    "        self.tokenizer = tokenizer\n",
    "        self.max_length = max_length\n",
    "\n",
    "    def __len__(self):\n",
    "        return len(self.dataframe)\n",
    "\n",
    "    def __getitem__(self, idx):\n",
    "        text = self.dataframe.iloc[idx, 0]\n",
    "        labels = self.dataframe.iloc[idx, 1]\n",
    "        labels = label_map[labels]\n",
    "        encoding = self.tokenizer.encode_plus(\n",
    "            text,\n",
    "            add_special_tokens=True,\n",
    "            max_length=self.max_length,\n",
    "            padding='max_length',\n",
    "            truncation=True,\n",
    "            return_tensors='pt'\n",
    "        )\n",
    "        input_ids = encoding['input_ids'].flatten()\n",
    "        attention_mask = encoding['attention_mask'].flatten()\n",
    "        \n",
    "        return {\n",
    "            'input_ids': input_ids,\n",
    "            'attention_mask': attention_mask,\n",
    "            'labels': torch.tensor(labels, dtype=torch.float)\n",
    "        }"
   ],
   "id": "3584f48ac58d16c6",
   "execution_count": 197,
   "outputs": []
  },
  {
   "metadata": {
    "ExecuteTime": {
     "end_time": "2024-06-26T03:16:20.031567Z",
     "start_time": "2024-06-26T03:16:20.016524Z"
    }
   },
   "cell_type": "code",
   "source": [
    "# 데이터셋 준비\n",
    "max_length = 128\n",
    "train_dataset = ViolenceDataset(train_df, tokenizer, max_length)\n",
    "val_dataset = ViolenceDataset(val_df, tokenizer, max_length)\n",
    "\n",
    "train_dataloader = DataLoader(train_dataset, batch_size=16, shuffle=True)\n",
    "val_dataloader = DataLoader(val_dataset, batch_size=16)"
   ],
   "id": "ad9de1fec8515a4f",
   "execution_count": 198,
   "outputs": []
  },
  {
   "metadata": {
    "ExecuteTime": {
     "end_time": "2024-06-26T14:16:49.034761Z",
     "start_time": "2024-06-26T03:16:20.033207Z"
    }
   },
   "cell_type": "code",
   "source": [
    "# 모델 정의\n",
    "class ElectraForMultiLabelClassification(nn.Module):\n",
    "    def __init__(self, model_name, num_labels):\n",
    "        super(ElectraForMultiLabelClassification, self).__init__()\n",
    "        self.electra = ElectraModel.from_pretrained(model_name)\n",
    "        self.classifier = nn.Linear(self.electra.config.hidden_size, num_labels)\n",
    "\n",
    "    def forward(self, input_ids, attention_mask):\n",
    "        outputs = self.electra(input_ids=input_ids, attention_mask=attention_mask)\n",
    "        sequence_output = outputs.last_hidden_state\n",
    "        pooled_output = sequence_output[:, 0, :]  # cls token\n",
    "        logits = self.classifier(pooled_output)\n",
    "        return logits\n",
    "\n",
    "model = ElectraForMultiLabelClassification(\"monologg/koelectra-base-v3-discriminator\", num_labels=5)\n",
    "criterion = nn.BCEWithLogitsLoss()\n",
    "optimizer = AdamW(model.parameters(), lr=1e-5)\n",
    "\n",
    "# W&B에 모델을 로깅할 수 있도록 W&B에 등록\n",
    "wandb.watch(model, log=\"all\")\n",
    "\n",
    "# 학습 루프\n",
    "model.train()\n",
    "for epoch in range(3):\n",
    "    all_preds = []\n",
    "    all_labels = []\n",
    "    for batch in train_dataloader:\n",
    "        input_ids = batch['input_ids']\n",
    "        attention_mask = batch['attention_mask']\n",
    "        labels = batch['labels']\n",
    "        \n",
    "        optimizer.zero_grad()\n",
    "        outputs = model(input_ids, attention_mask)\n",
    "        loss = criterion(outputs, labels)\n",
    "        loss.backward()\n",
    "        optimizer.step()\n",
    "        \n",
    "        preds = torch.sigmoid(outputs).detach().cpu().numpy()\n",
    "        labels = labels.detach().cpu().numpy()\n",
    "        \n",
    "        all_preds.append(preds)\n",
    "        all_labels.append(labels)\n",
    "        \n",
    "        wandb.log({\"epoch\": epoch + 1, \"train_loss\": loss.item()})\n",
    "        print(f\"Epoch {epoch+1}, Loss: {loss.item()}\")\n",
    "    \n",
    "    # 에포크당 F1 스코어 계산\n",
    "    all_preds = np.concatenate(all_preds, axis=0)\n",
    "    all_labels = np.concatenate(all_labels, axis=0)\n",
    "    f1 = f1_score(all_labels, (all_preds > 0.5).astype(int), average='micro')\n",
    "    \n",
    "    wandb.log({\"epoch\": epoch + 1, \"train_f1_score\": f1})\n",
    "    print(f\"Epoch {epoch+1}, Train F1 Score: {f1}\")\n",
    "\n",
    "    # Validation loop\n",
    "    model.eval()\n",
    "    val_preds = []\n",
    "    val_labels = []\n",
    "    val_losses = []\n",
    "    with torch.no_grad():\n",
    "        for batch in val_dataloader:\n",
    "            input_ids = batch['input_ids']\n",
    "            attention_mask = batch['attention_mask']\n",
    "            labels = batch['labels']\n",
    "            \n",
    "            outputs = model(input_ids, attention_mask)\n",
    "            loss = criterion(outputs, labels)\n",
    "            val_losses.append(loss.item())\n",
    "            \n",
    "            preds = torch.sigmoid(outputs).detach().cpu().numpy()\n",
    "            labels = labels.detach().cpu().numpy()\n",
    "            \n",
    "            val_preds.append(preds)\n",
    "            val_labels.append(labels)\n",
    "    \n",
    "    val_preds = np.concatenate(val_preds, axis=0)\n",
    "    val_labels = np.concatenate(val_labels, axis=0)\n",
    "    val_f1 = f1_score(val_labels, (val_preds > 0.5).astype(int), average='micro')\n",
    "    val_loss = np.mean(val_losses)\n",
    "    \n",
    "    wandb.log({\"epoch\": epoch + 1, \"val_f1_score\": val_f1, \"val_loss\": val_loss})\n",
    "    print(f\"Epoch {epoch+1}, Validation F1 Score: {val_f1}, Validation Loss: {val_loss}\")\n",
    "    \n",
    "    model.train()"
   ],
   "id": "160acef109c08bd2",
   "execution_count": 199,
   "outputs": []
  },
  {
   "metadata": {
    "ExecuteTime": {
     "end_time": "2024-06-26T16:02:22.605271Z",
     "start_time": "2024-06-26T16:01:40.177830Z"
    }
   },
   "cell_type": "code",
   "source": [
    "# 모델 저장\n",
    "model_save_path = './koelectra_multilabel'\n",
    "torch.save(model.state_dict(), model_save_path + '/pytorch_model3.bin')\n",
    "tokenizer.save_pretrained(model_save_path)\n",
    "\n",
    "# W&B에 모델 아티팩트로 업로드\n",
    "artifact = wandb.Artifact('koelectra-multi-label-classification4', type='model')\n",
    "artifact.add_dir(model_save_path)\n",
    "wandb.log_artifact(artifact)\n",
    "\n",
    "# W&B 실행 종료\n",
    "wandb.finish()"
   ],
   "id": "d562d49b41a6602",
   "execution_count": 200,
   "outputs": []
  },
  {
   "metadata": {
    "ExecuteTime": {
     "end_time": "2024-06-26T03:00:21.572042Z",
     "start_time": "2024-06-26T03:00:17.865990Z"
    }
   },
   "cell_type": "code",
   "source": "!pip install nlpaug",
   "id": "db227c5fdb5d24af",
   "execution_count": 109,
   "outputs": []
  },
  {
   "metadata": {
    "ExecuteTime": {
     "end_time": "2024-06-26T03:00:56.306199Z",
     "start_time": "2024-06-26T03:00:52.275476Z"
    }
   },
   "cell_type": "code",
   "source": "!pip install nltk",
   "id": "31b3ded2dffe242d",
   "execution_count": 111,
   "outputs": []
  },
  {
   "metadata": {
    "ExecuteTime": {
     "end_time": "2024-06-26T03:02:16.761411Z",
     "start_time": "2024-06-26T03:02:16.004099Z"
    }
   },
   "cell_type": "code",
   "source": [
    "import nltk\n",
    "# download the wordnet corpus\n",
    "nltk.download('wordnet')\n",
    "# import wordnet\n",
    "from nltk.corpus import wordnet"
   ],
   "id": "7eb866509c80c5da",
   "execution_count": 114,
   "outputs": []
  },
  {
   "metadata": {
    "ExecuteTime": {
     "end_time": "2024-06-26T03:04:29.833717Z",
     "start_time": "2024-06-26T03:04:29.667017Z"
    }
   },
   "cell_type": "code",
   "source": [
    "import torch\n",
    "from torch.utils.data import Dataset, DataLoader\n",
    "import torch.nn as nn\n",
    "import torch.optim as optim\n",
    "from transformers import ElectraModel, AdamW, get_linear_schedule_with_warmup\n",
    "from sklearn.metrics import f1_score\n",
    "import wandb\n",
    "import numpy as np\n",
    "import nlpaug.augmenter.word as naw\n",
    "\n",
    "# 데이터 증강 설정\n",
    "augmenter = naw.SynonymAug(aug_src='wordnet')\n",
    "\n",
    "# ViolenceDataset 정의\n",
    "class ViolenceDataset(Dataset):\n",
    "    def __init__(self, dataframe, tokenizer, max_length, augment=False):\n",
    "        self.dataframe = dataframe\n",
    "        self.tokenizer = tokenizer\n",
    "        self.max_length = max_length\n",
    "        self.augment = augment\n",
    "\n",
    "    def __len__(self):\n",
    "        return len(self.dataframe)\n",
    "\n",
    "    def __getitem__(self, idx):\n",
    "        text = self.dataframe.iloc[idx, 0]\n",
    "        labels = self.dataframe.iloc[idx, 1]\n",
    "        labels = label_map[labels]\n",
    "        \n",
    "        if self.augment:\n",
    "            text = augmenter.augment(text)\n",
    "        \n",
    "        encoding = self.tokenizer.encode_plus(\n",
    "            text,\n",
    "            add_special_tokens=True,\n",
    "            max_length=self.max_length,\n",
    "            padding='max_length',\n",
    "            truncation=True,\n",
    "            return_tensors='pt'\n",
    "        )\n",
    "        input_ids = encoding['input_ids'].flatten()\n",
    "        attention_mask = encoding['attention_mask'].flatten()\n",
    "        \n",
    "        return {\n",
    "            'input_ids': input_ids,\n",
    "            'attention_mask': attention_mask,\n",
    "            'labels': torch.tensor(labels, dtype=torch.float)\n",
    "        }\n",
    "\n",
    "# 데이터셋 준비\n",
    "max_length = 128\n",
    "train_dataset = ViolenceDataset(train_df, tokenizer, max_length, augment=True)\n",
    "val_dataset = ViolenceDataset(val_df, tokenizer, max_length)\n",
    "\n",
    "train_dataloader = DataLoader(train_dataset, batch_size=16, shuffle=True)\n",
    "val_dataloader = DataLoader(val_dataset, batch_size=16)\n",
    "\n",
    "# 모델 정의\n",
    "class ElectraForMultiLabelClassification(nn.Module):\n",
    "    def __init__(self, model_name, num_labels):\n",
    "        super(ElectraForMultiLabelClassification, self).__init__()\n",
    "        self.electra = ElectraModel.from_pretrained(model_name)\n",
    "        self.dropout = nn.Dropout(0.3)  # 추가된 Dropout 레이어\n",
    "        self.classifier = nn.Linear(self.electra.config.hidden_size, num_labels)\n",
    "\n",
    "    def forward(self, input_ids, attention_mask):\n",
    "        outputs = self.electra(input_ids=input_ids, attention_mask=attention_mask)\n",
    "        sequence_output = outputs.last_hidden_state\n",
    "        pooled_output = sequence_output[:, 0, :]  # cls token\n",
    "        pooled_output = self.dropout(pooled_output)  # Dropout 적용\n",
    "        logits = self.classifier(pooled_output)\n",
    "        return logits\n",
    "\n",
    "model = ElectraForMultiLabelClassification(\"monologg/koelectra-base-v3-discriminator\", num_labels=5)\n",
    "criterion = nn.BCEWithLogitsLoss()\n",
    "optimizer = AdamW(model.parameters(), lr=1e-5)\n",
    "\n",
    "# 학습률 스케줄러 추가\n",
    "total_steps = len(train_dataloader) * 10  # 10은 총 에포크 수\n",
    "scheduler = get_linear_schedule_with_warmup(optimizer, num_warmup_steps=0, num_training_steps=total_steps)\n",
    "\n",
    "# W&B에 모델을 로깅할 수 있도록 W&B에 등록\n",
    "wandb.watch(model, log=\"all\")\n",
    "\n",
    "# 학습 루프\n",
    "model.train()\n",
    "best_val_f1 = 0.0\n",
    "early_stopping_counter = 0\n",
    "for epoch in range(10):\n",
    "    all_preds = []\n",
    "    all_labels = []\n",
    "    for batch in train_dataloader:\n",
    "        input_ids = batch['input_ids']\n",
    "        attention_mask = batch['attention_mask']\n",
    "        labels = batch['labels']\n",
    "        \n",
    "        optimizer.zero_grad()\n",
    "        outputs = model(input_ids, attention_mask)\n",
    "        loss = criterion(outputs, labels)\n",
    "        loss.backward()\n",
    "        optimizer.step()\n",
    "        scheduler.step()  # 학습률 스케줄러 업데이트\n",
    "        \n",
    "        preds = torch.sigmoid(outputs).detach().cpu().numpy()\n",
    "        labels = labels.detach().cpu().numpy()\n",
    "        \n",
    "        all_preds.append(preds)\n",
    "        all_labels.append(labels)\n",
    "        \n",
    "        wandb.log({\"epoch\": epoch + 1, \"train_loss\": loss.item()})\n",
    "        print(f\"Epoch {epoch+1}, Loss: {loss.item()}\")\n",
    "    \n",
    "    # 에포크당 F1 스코어 계산\n",
    "    all_preds = np.concatenate(all_preds, axis=0)\n",
    "    all_labels = np.concatenate(all_labels, axis=0)\n",
    "    f1 = f1_score(all_labels, (all_preds > 0.5).astype(int), average='micro')\n",
    "    \n",
    "    wandb.log({\"epoch\": epoch + 1, \"train_f1_score\": f1})\n",
    "    print(f\"Epoch {epoch+1}, Train F1 Score: {f1}\")\n",
    "\n",
    "    # Validation loop\n",
    "    model.eval()\n",
    "    val_preds = []\n",
    "    val_labels = []\n",
    "    val_losses = []\n",
    "    with torch.no_grad():\n",
    "        for batch in val_dataloader:\n",
    "            input_ids = batch['input_ids']\n",
    "            attention_mask = batch['attention_mask']\n",
    "            labels = batch['labels']\n",
    "            \n",
    "            outputs = model(input_ids, attention_mask)\n",
    "            loss = criterion(outputs, labels)\n",
    "            val_losses.append(loss.item())\n",
    "            \n",
    "            preds = torch.sigmoid(outputs).detach().cpu().numpy()\n",
    "            labels = labels.detach().cpu().numpy()\n",
    "            \n",
    "            val_preds.append(preds)\n",
    "            val_labels.append(labels)\n",
    "    \n",
    "    val_preds = np.concatenate(val_preds, axis=0)\n",
    "    val_labels = np.concatenate(val_labels, axis=0)\n",
    "    val_f1 = f1_score(val_labels, (val_preds > 0.5).astype(int), average='micro')\n",
    "    val_loss = np.mean(val_losses)\n",
    "    \n",
    "    wandb.log({\"epoch\": epoch + 1, \"val_f1_score\": val_f1, \"val_loss\": val_loss})\n",
    "    print(f\"Epoch {epoch+1}, Validation F1 Score: {val_f1}, Validation Loss: {val_loss}\")\n",
    "    \n",
    "    # 조기 종료 체크\n",
    "    if val_f1 > best_val_f1:\n",
    "        best_val_f1 = val_f1\n",
    "        early_stopping_counter = 0  # 조기 종료 카운터 초기화\n",
    "    else:\n",
    "        early_stopping_counter += 1\n",
    "    \n",
    "    if early_stopping_counter >= 3:  # 3 에포크 동안 개선이 없으면 종료\n",
    "        print(\"Early stopping due to no improvement in validation F1 score.\")\n",
    "        break\n",
    "    \n",
    "    model.train()"
   ],
   "id": "e30dd983b4847be1",
   "execution_count": 117,
   "outputs": []
  },
  {
   "cell_type": "markdown",
   "id": "e6143331",
   "metadata": {
    "id": "e6143331"
   },
   "source": "## Predict"
  },
  {
   "cell_type": "markdown",
   "id": "00279d77",
   "metadata": {
    "id": "00279d77"
   },
   "source": [
    "일반대화 예시\n",
    "\n",
    "```json\n",
    "{\n",
    "\t\"id\": {\n",
    "\t\t\"text\": \"이거 들어봐 와 이 노래 진짜 좋다 그치 요즘 이 것만 들어 진짜 너무 좋다 내가 요즘 듣는 것도 들어봐 음 난 좀 별론데 좋을 줄 알았는데 아쉽네 내 취향은 아닌 듯 배고프다 밥이나 먹으러 가자 그래\"\n",
    "\t}\n",
    "}\n",
    "```"
   ]
  },
  {
   "metadata": {
    "ExecuteTime": {
     "end_time": "2024-06-26T03:05:45.309477Z",
     "start_time": "2024-06-26T03:05:45.285873Z"
    }
   },
   "cell_type": "code",
   "source": [
    "import json\n",
    "with open('./data/test.json') as f:\n",
    "    test_data = json.load(f)\n",
    "\n",
    "test_data = pd.DataFrame(test_data).T\n",
    "test_data.reset_index(drop=True, inplace=True)"
   ],
   "id": "73471d2413427eb5",
   "execution_count": 119,
   "outputs": []
  },
  {
   "metadata": {
    "ExecuteTime": {
     "end_time": "2024-06-26T16:02:22.659792Z",
     "start_time": "2024-06-26T16:02:22.608163Z"
    }
   },
   "cell_type": "code",
   "source": "test_data",
   "id": "6711fe6fd1acf41e",
   "execution_count": 201,
   "outputs": []
  },
  {
   "metadata": {
    "ExecuteTime": {
     "end_time": "2024-06-26T16:03:04.705214Z",
     "start_time": "2024-06-26T16:03:04.697384Z"
    }
   },
   "cell_type": "code",
   "source": [
    "# 예측 함수\n",
    "def predict(text):\n",
    "    try:\n",
    "        model.eval()\n",
    "        with torch.no_grad():\n",
    "            encoding = tokenizer.encode_plus(\n",
    "                text,\n",
    "                add_special_tokens=True,\n",
    "                max_length=128,\n",
    "                padding='max_length',\n",
    "                truncation=True,\n",
    "                return_tensors='pt'\n",
    "            )\n",
    "            input_ids = encoding['input_ids']\n",
    "            attention_mask = encoding['attention_mask']\n",
    "            outputs = model(input_ids=input_ids, attention_mask=attention_mask)\n",
    "            probs = torch.sigmoid(outputs)\n",
    "        return probs\n",
    "    except:\n",
    "        print(text)\n",
    "        return torch.zeros([1, 5])"
   ],
   "id": "beb69d4694728157",
   "execution_count": 202,
   "outputs": []
  },
  {
   "metadata": {
    "ExecuteTime": {
     "end_time": "2024-06-26T16:03:06.738473Z",
     "start_time": "2024-06-26T16:03:06.722672Z"
    }
   },
   "cell_type": "code",
   "source": [
    "from tqdm import tqdm, trange\n",
    "\n",
    "tqdm.pandas()"
   ],
   "id": "2b42d2fc74eed268",
   "execution_count": 203,
   "outputs": []
  },
  {
   "metadata": {
    "ExecuteTime": {
     "end_time": "2024-06-26T03:06:21.163762Z",
     "start_time": "2024-06-26T03:06:21.113115Z"
    }
   },
   "cell_type": "code",
   "source": "test_data['cleaned'] = test_data.text.apply(lambda x: clean(x))",
   "id": "369dfa640d22e9fa",
   "execution_count": 123,
   "outputs": []
  },
  {
   "metadata": {
    "ExecuteTime": {
     "end_time": "2024-06-26T16:03:59.622265Z",
     "start_time": "2024-06-26T16:03:15.327317Z"
    }
   },
   "cell_type": "code",
   "source": "test_data['pred'] = test_data['cleaned'].progress_apply(lambda x: predict(x))",
   "id": "e4d4fd1f5e30726f",
   "execution_count": 204,
   "outputs": []
  },
  {
   "metadata": {},
   "cell_type": "code",
   "execution_count": null,
   "source": "",
   "id": "1a3e36f2021d5fc8",
   "outputs": []
  },
  {
   "metadata": {
    "ExecuteTime": {
     "end_time": "2024-06-26T03:07:17.731547Z",
     "start_time": "2024-06-26T03:07:17.726616Z"
    }
   },
   "cell_type": "code",
   "source": "n = pd.read_csv('pred/n.csv')",
   "id": "8a95a56e54e6a7c",
   "execution_count": 125,
   "outputs": []
  },
  {
   "metadata": {
    "ExecuteTime": {
     "end_time": "2024-06-26T03:07:39.140992Z",
     "start_time": "2024-06-26T03:07:39.133945Z"
    }
   },
   "cell_type": "code",
   "source": "n['class'].value_counts()",
   "id": "2917c90d25598993",
   "execution_count": 128,
   "outputs": []
  },
  {
   "metadata": {
    "ExecuteTime": {
     "end_time": "2024-06-26T16:04:04.762900Z",
     "start_time": "2024-06-26T16:04:04.741350Z"
    }
   },
   "cell_type": "code",
   "source": "test_data['pred_label'] = test_data['pred'].apply(lambda x: np.argmax(x).item())",
   "id": "ccf8e57876a0b315",
   "execution_count": 205,
   "outputs": []
  },
  {
   "metadata": {
    "ExecuteTime": {
     "end_time": "2024-06-26T16:06:20.532511Z",
     "start_time": "2024-06-26T16:06:20.508100Z"
    }
   },
   "cell_type": "code",
   "source": "test_data['pred_label'].value_counts()",
   "id": "9e53bc6cd0bbddf9",
   "execution_count": 211,
   "outputs": []
  },
  {
   "metadata": {
    "ExecuteTime": {
     "end_time": "2024-06-26T16:07:57.473713Z",
     "start_time": "2024-06-26T16:07:57.464493Z"
    }
   },
   "cell_type": "code",
   "source": "sample = test_data.pred[0]",
   "id": "696f04c596a63ff6",
   "execution_count": 215,
   "outputs": []
  },
  {
   "metadata": {
    "ExecuteTime": {
     "end_time": "2024-06-26T16:08:24.092019Z",
     "start_time": "2024-06-26T16:08:24.087409Z"
    }
   },
   "cell_type": "code",
   "source": "sample.max()",
   "id": "2f052de1c90d0587",
   "execution_count": 218,
   "outputs": []
  },
  {
   "metadata": {
    "ExecuteTime": {
     "end_time": "2024-06-26T16:20:31.775938Z",
     "start_time": "2024-06-26T16:20:31.767174Z"
    }
   },
   "cell_type": "code",
   "source": "test_data['pred']",
   "id": "3a2ca852716e6103",
   "execution_count": 244,
   "outputs": []
  },
  {
   "metadata": {
    "ExecuteTime": {
     "end_time": "2024-06-26T16:08:39.171539Z",
     "start_time": "2024-06-26T16:08:39.156126Z"
    }
   },
   "cell_type": "code",
   "source": "test_data['max_val'] = test_data.pred.apply(lambda x: x.max().item())",
   "id": "c73e092c60450d32",
   "execution_count": 219,
   "outputs": []
  },
  {
   "metadata": {
    "ExecuteTime": {
     "end_time": "2024-06-26T16:08:50.911791Z",
     "start_time": "2024-06-26T16:08:50.646052Z"
    }
   },
   "cell_type": "code",
   "source": "test_data['max_val'].hist()",
   "id": "2685cd530d2d1518",
   "execution_count": 221,
   "outputs": []
  },
  {
   "metadata": {
    "ExecuteTime": {
     "end_time": "2024-06-26T16:09:16.400310Z",
     "start_time": "2024-06-26T16:09:16.394548Z"
    }
   },
   "cell_type": "code",
   "source": "test_data['max_val'].describe()",
   "id": "b3452eca76477919",
   "execution_count": 223,
   "outputs": []
  },
  {
   "metadata": {},
   "cell_type": "markdown",
   "source": "",
   "id": "a57b90509bf80b86"
  },
  {
   "metadata": {
    "ExecuteTime": {
     "end_time": "2024-06-26T16:27:42.107327Z",
     "start_time": "2024-06-26T16:27:42.099345Z"
    }
   },
   "cell_type": "code",
   "source": "test_data.loc[test_data['max_val'] < 0.5].text.tolist()",
   "id": "cbfde114ad5df679",
   "execution_count": 246,
   "outputs": []
  },
  {
   "metadata": {},
   "cell_type": "code",
   "execution_count": 229,
   "source": "test_data.loc[test_data['max_val'] < 0.6,'pred_label']",
   "id": "2ccd97caf6767ed1",
   "outputs": []
  },
  {
   "metadata": {
    "ExecuteTime": {
     "end_time": "2024-06-26T03:11:17.535526Z",
     "start_time": "2024-06-26T03:11:17.517393Z"
    }
   },
   "cell_type": "code",
   "source": "test_data['d'] = (test_data['label'] - n['class'])",
   "id": "124ac7b09700d597",
   "execution_count": 144,
   "outputs": []
  },
  {
   "metadata": {
    "ExecuteTime": {
     "end_time": "2024-06-26T03:11:50.373446Z",
     "start_time": "2024-06-26T03:11:50.339829Z"
    }
   },
   "cell_type": "code",
   "source": "test_data['class'] = n['class']",
   "id": "5c3e58ca8c171c95",
   "execution_count": 146,
   "outputs": []
  },
  {
   "metadata": {
    "ExecuteTime": {
     "end_time": "2024-06-26T16:12:31.688159Z",
     "start_time": "2024-06-26T16:12:31.680157Z"
    }
   },
   "cell_type": "code",
   "source": "test_data.loc[test_data['class'] == 4,'pred_label'] = 4",
   "id": "8bc77a1450f76b64",
   "execution_count": 236,
   "outputs": []
  },
  {
   "metadata": {
    "ExecuteTime": {
     "end_time": "2024-06-26T16:04:43.807938Z",
     "start_time": "2024-06-26T16:04:43.797993Z"
    }
   },
   "cell_type": "code",
   "source": "new = pd.read_csv('./data/new_submission.csv')",
   "id": "6525d1cfed215987",
   "execution_count": 208,
   "outputs": []
  },
  {
   "metadata": {
    "ExecuteTime": {
     "end_time": "2024-06-26T16:12:02.230432Z",
     "start_time": "2024-06-26T16:12:02.227481Z"
    }
   },
   "cell_type": "code",
   "source": "new['class'] = test_data['pred_label']",
   "id": "57b6e367f552a0ed",
   "execution_count": 234,
   "outputs": []
  },
  {
   "metadata": {
    "ExecuteTime": {
     "end_time": "2024-06-26T16:12:34.917659Z",
     "start_time": "2024-06-26T16:12:34.914278Z"
    }
   },
   "cell_type": "code",
   "source": "new.to_csv('new_pred2.csv', index=False)",
   "id": "fe17ac4e51df726c",
   "execution_count": 237,
   "outputs": []
  },
  {
   "metadata": {
    "ExecuteTime": {
     "end_time": "2024-06-26T16:12:35.992193Z",
     "start_time": "2024-06-26T16:12:35.977100Z"
    }
   },
   "cell_type": "code",
   "source": "test_data",
   "id": "ed0d04c732df017f",
   "execution_count": 238,
   "outputs": []
  }
 ],
 "metadata": {
  "kernelspec": {
   "display_name": "Python 3 (ipykernel)",
   "name": "python3",
   "language": "python"
  },
  "language_info": {
   "codemirror_mode": {
    "name": "ipython",
    "version": 3
   },
   "file_extension": ".py",
   "mimetype": "text/x-python",
   "name": "python",
   "nbconvert_exporter": "python",
   "pygments_lexer": "ipython3",
   "version": "3.9.7"
  },
  "colab": {
   "provenance": [],
   "gpuType": "T4"
  },
  "accelerator": "GPU"
 },
 "nbformat": 4,
 "nbformat_minor": 5
}
